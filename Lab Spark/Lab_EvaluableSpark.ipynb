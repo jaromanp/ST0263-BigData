{
 "cells": [
  {
   "cell_type": "code",
   "execution_count": 3,
   "metadata": {},
   "outputs": [
    {
     "data": {
      "application/vnd.jupyter.widget-view+json": {
       "model_id": "f0715a175a4845a98957c9ffe039544a",
       "version_major": 2,
       "version_minor": 0
      },
      "text/plain": [
       "VBox()"
      ]
     },
     "metadata": {},
     "output_type": "display_data"
    },
    {
     "data": {
      "application/vnd.jupyter.widget-view+json": {
       "model_id": "",
       "version_major": 2,
       "version_minor": 0
      },
      "text/plain": [
       "FloatProgress(value=0.0, bar_style='info', description='Progress:', layout=Layout(height='25px', width='50%'),…"
      ]
     },
     "metadata": {},
     "output_type": "display_data"
    }
   ],
   "source": [
    "#import SparkSession\n",
    "from pyspark.sql import SparkSession"
   ]
  },
  {
   "cell_type": "code",
   "execution_count": 4,
   "metadata": {},
   "outputs": [
    {
     "data": {
      "application/vnd.jupyter.widget-view+json": {
       "model_id": "ca342cc4e742418fa296ee2f03b95fc3",
       "version_major": 2,
       "version_minor": 0
      },
      "text/plain": [
       "VBox()"
      ]
     },
     "metadata": {},
     "output_type": "display_data"
    },
    {
     "data": {
      "application/vnd.jupyter.widget-view+json": {
       "model_id": "",
       "version_major": 2,
       "version_minor": 0
      },
      "text/plain": [
       "FloatProgress(value=0.0, bar_style='info', description='Progress:', layout=Layout(height='25px', width='50%'),…"
      ]
     },
     "metadata": {},
     "output_type": "display_data"
    }
   ],
   "source": [
    "#create spar session object\n",
    "spark=SparkSession.builder.appName('data_processing').getOrCreate()"
   ]
  },
  {
   "cell_type": "code",
   "execution_count": 27,
   "metadata": {},
   "outputs": [
    {
     "data": {
      "application/vnd.jupyter.widget-view+json": {
       "model_id": "8d6dbbf948a644d39feafbfe08671e4b",
       "version_major": 2,
       "version_minor": 0
      },
      "text/plain": [
       "VBox()"
      ]
     },
     "metadata": {},
     "output_type": "display_data"
    },
    {
     "data": {
      "application/vnd.jupyter.widget-view+json": {
       "model_id": "",
       "version_major": 2,
       "version_minor": 0
      },
      "text/plain": [
       "FloatProgress(value=0.0, bar_style='info', description='Progress:', layout=Layout(height='25px', width='50%'),…"
      ]
     },
     "metadata": {},
     "output_type": "display_data"
    }
   ],
   "source": [
    "# Carga de datos del CSV Covid-19 desde Bucket S3\n",
    "df=spark.read.csv('s3://jaromanpdatasets/datasets/spark/covid_data.csv',inferSchema=True,header=True)"
   ]
  },
  {
   "cell_type": "code",
   "execution_count": 9,
   "metadata": {},
   "outputs": [
    {
     "data": {
      "application/vnd.jupyter.widget-view+json": {
       "model_id": "372de80650d3490092502825ee3aec27",
       "version_major": 2,
       "version_minor": 0
      },
      "text/plain": [
       "VBox()"
      ]
     },
     "metadata": {},
     "output_type": "display_data"
    },
    {
     "data": {
      "application/vnd.jupyter.widget-view+json": {
       "model_id": "",
       "version_major": 2,
       "version_minor": 0
      },
      "text/plain": [
       "FloatProgress(value=0.0, bar_style='info', description='Progress:', layout=Layout(height='25px', width='50%'),…"
      ]
     },
     "metadata": {},
     "output_type": "display_data"
    },
    {
     "name": "stdout",
     "output_type": "stream",
     "text": [
      "['ID de caso', 'Fecha de notificación', 'Codigo DIVIPOLA', 'Ciudad de ubicación', 'Departamento o Distrito ', 'atención', 'Edad', 'Sexo', 'Tipo', 'Estado', 'País de procedencia', 'FIS', 'Fecha de muerte', 'Fecha diagnostico', 'Fecha recuperado', 'fecha reporte web']"
     ]
    }
   ],
   "source": [
    "#Columnas del dataframe\n",
    "df.columns"
   ]
  },
  {
   "cell_type": "code",
   "execution_count": 10,
   "metadata": {},
   "outputs": [
    {
     "data": {
      "application/vnd.jupyter.widget-view+json": {
       "model_id": "44e42b94669e4af48444fc0115574557",
       "version_major": 2,
       "version_minor": 0
      },
      "text/plain": [
       "VBox()"
      ]
     },
     "metadata": {},
     "output_type": "display_data"
    },
    {
     "data": {
      "application/vnd.jupyter.widget-view+json": {
       "model_id": "",
       "version_major": 2,
       "version_minor": 0
      },
      "text/plain": [
       "FloatProgress(value=0.0, bar_style='info', description='Progress:', layout=Layout(height='25px', width='50%'),…"
      ]
     },
     "metadata": {},
     "output_type": "display_data"
    },
    {
     "name": "stdout",
     "output_type": "stream",
     "text": [
      "16"
     ]
    }
   ],
   "source": [
    "#Numero de columnas\n",
    "len(df.columns)"
   ]
  },
  {
   "cell_type": "code",
   "execution_count": 11,
   "metadata": {},
   "outputs": [
    {
     "data": {
      "application/vnd.jupyter.widget-view+json": {
       "model_id": "4b44825d5ce04418be34a515925d42c7",
       "version_major": 2,
       "version_minor": 0
      },
      "text/plain": [
       "VBox()"
      ]
     },
     "metadata": {},
     "output_type": "display_data"
    },
    {
     "data": {
      "application/vnd.jupyter.widget-view+json": {
       "model_id": "",
       "version_major": 2,
       "version_minor": 0
      },
      "text/plain": [
       "FloatProgress(value=0.0, bar_style='info', description='Progress:', layout=Layout(height='25px', width='50%'),…"
      ]
     },
     "metadata": {},
     "output_type": "display_data"
    },
    {
     "name": "stdout",
     "output_type": "stream",
     "text": [
      "6211"
     ]
    }
   ],
   "source": [
    "#Numero de registros (En este caso seria el número total de casos registrados hasta el momento)\n",
    "df.count()"
   ]
  },
  {
   "cell_type": "code",
   "execution_count": 12,
   "metadata": {},
   "outputs": [
    {
     "data": {
      "application/vnd.jupyter.widget-view+json": {
       "model_id": "e269a78baa234ce9a7253d84d84d3e9f",
       "version_major": 2,
       "version_minor": 0
      },
      "text/plain": [
       "VBox()"
      ]
     },
     "metadata": {},
     "output_type": "display_data"
    },
    {
     "data": {
      "application/vnd.jupyter.widget-view+json": {
       "model_id": "",
       "version_major": 2,
       "version_minor": 0
      },
      "text/plain": [
       "FloatProgress(value=0.0, bar_style='info', description='Progress:', layout=Layout(height='25px', width='50%'),…"
      ]
     },
     "metadata": {},
     "output_type": "display_data"
    },
    {
     "name": "stdout",
     "output_type": "stream",
     "text": [
      "root\n",
      " |-- ID de caso: integer (nullable = true)\n",
      " |-- Fecha de notificación: timestamp (nullable = true)\n",
      " |-- Codigo DIVIPOLA: integer (nullable = true)\n",
      " |-- Ciudad de ubicación: string (nullable = true)\n",
      " |-- Departamento o Distrito : string (nullable = true)\n",
      " |-- atención: string (nullable = true)\n",
      " |-- Edad: integer (nullable = true)\n",
      " |-- Sexo: string (nullable = true)\n",
      " |-- Tipo: string (nullable = true)\n",
      " |-- Estado: string (nullable = true)\n",
      " |-- País de procedencia: string (nullable = true)\n",
      " |-- FIS: string (nullable = true)\n",
      " |-- Fecha de muerte: string (nullable = true)\n",
      " |-- Fecha diagnostico: timestamp (nullable = true)\n",
      " |-- Fecha recuperado: string (nullable = true)\n",
      " |-- fecha reporte web: timestamp (nullable = true)"
     ]
    }
   ],
   "source": [
    "#Esquema de los datos\n",
    "df.printSchema()"
   ]
  },
  {
   "cell_type": "code",
   "execution_count": 13,
   "metadata": {},
   "outputs": [
    {
     "data": {
      "application/vnd.jupyter.widget-view+json": {
       "model_id": "c390a3a5a5e447abab0564626ce3fa63",
       "version_major": 2,
       "version_minor": 0
      },
      "text/plain": [
       "VBox()"
      ]
     },
     "metadata": {},
     "output_type": "display_data"
    },
    {
     "data": {
      "application/vnd.jupyter.widget-view+json": {
       "model_id": "",
       "version_major": 2,
       "version_minor": 0
      },
      "text/plain": [
       "FloatProgress(value=0.0, bar_style='info', description='Progress:', layout=Layout(height='25px', width='50%'),…"
      ]
     },
     "metadata": {},
     "output_type": "display_data"
    },
    {
     "name": "stdout",
     "output_type": "stream",
     "text": [
      "+-------+------------------+------------------+-------------------+------------------------+--------+------------------+----+-----------+---------+-------------------+--------------------+--------------------+--------------------+\n",
      "|summary|        ID de caso|   Codigo DIVIPOLA|Ciudad de ubicación|Departamento o Distrito |atención|              Edad|Sexo|       Tipo|   Estado|País de procedencia|                 FIS|     Fecha de muerte|    Fecha recuperado|\n",
      "+-------+------------------+------------------+-------------------+------------------------+--------+------------------+----+-----------+---------+-------------------+--------------------+--------------------+--------------------+\n",
      "|  count|              6211|              6211|               6211|                    6211|    6211|              6211|6211|       6211|     6211|               6211|                6211|                6211|                5952|\n",
      "|   mean|            3106.0|30742.691515053935|               null|                    null|    null| 41.23715987763645|null|       null|     null|               null|                null|                null|                null|\n",
      "| stddev|1793.1055927263922| 27326.15632510684|               null|                    null|    null|18.468991567406906|null|       null|     null|               null|                null|                null|                null|\n",
      "|    min|                 1|                25|            Acacías|                Amazonas|    Casa|                 1|   F| En Estudio|Fallecido|           Alemania|2020-02-27T00:00:...|               -   -|               -   -|\n",
      "|    max|              6211|             91001|      Zona Bananera|         Valle del Cauca|    casa|               103|   m|relacionado|     leve|          Venezuela|        Asintomático|2020-04-29T00:00:...|2020-04-27T23:59:...|\n",
      "+-------+------------------+------------------+-------------------+------------------------+--------+------------------+----+-----------+---------+-------------------+--------------------+--------------------+--------------------+"
     ]
    }
   ],
   "source": [
    "#Informacion del dataset\n",
    "df.describe().show()"
   ]
  },
  {
   "cell_type": "code",
   "execution_count": 14,
   "metadata": {},
   "outputs": [
    {
     "data": {
      "application/vnd.jupyter.widget-view+json": {
       "model_id": "42251d6a830c41998850572924f4d802",
       "version_major": 2,
       "version_minor": 0
      },
      "text/plain": [
       "VBox()"
      ]
     },
     "metadata": {},
     "output_type": "display_data"
    },
    {
     "data": {
      "application/vnd.jupyter.widget-view+json": {
       "model_id": "",
       "version_major": 2,
       "version_minor": 0
      },
      "text/plain": [
       "FloatProgress(value=0.0, bar_style='info', description='Progress:', layout=Layout(height='25px', width='50%'),…"
      ]
     },
     "metadata": {},
     "output_type": "display_data"
    }
   ],
   "source": [
    "from pyspark.sql.types import StringType,DoubleType,IntegerType"
   ]
  },
  {
   "cell_type": "code",
   "execution_count": 25,
   "metadata": {},
   "outputs": [
    {
     "data": {
      "application/vnd.jupyter.widget-view+json": {
       "model_id": "b013c0917ec24c6fbcf0abc66622c823",
       "version_major": 2,
       "version_minor": 0
      },
      "text/plain": [
       "VBox()"
      ]
     },
     "metadata": {},
     "output_type": "display_data"
    },
    {
     "data": {
      "application/vnd.jupyter.widget-view+json": {
       "model_id": "",
       "version_major": 2,
       "version_minor": 0
      },
      "text/plain": [
       "FloatProgress(value=0.0, bar_style='info', description='Progress:', layout=Layout(height='25px', width='50%'),…"
      ]
     },
     "metadata": {},
     "output_type": "display_data"
    },
    {
     "name": "stdout",
     "output_type": "stream",
     "text": [
      "+-------------------+----+\n",
      "|Ciudad de ubicación|Sexo|\n",
      "+-------------------+----+\n",
      "|        Bogotá D.C.|   F|\n",
      "|Guadalajara de Buga|   M|\n",
      "|           Medellín|   F|\n",
      "|           Medellín|   M|\n",
      "|           Medellín|   M|\n",
      "+-------------------+----+\n",
      "only showing top 5 rows"
     ]
    }
   ],
   "source": [
    "#Seleccio de columnas\n",
    "df.select('Ciudad de ubicación','Sexo').show(5)"
   ]
  },
  {
   "cell_type": "code",
   "execution_count": 20,
   "metadata": {},
   "outputs": [
    {
     "data": {
      "application/vnd.jupyter.widget-view+json": {
       "model_id": "29504e88add347fe917858a7ca877d54",
       "version_major": 2,
       "version_minor": 0
      },
      "text/plain": [
       "VBox()"
      ]
     },
     "metadata": {},
     "output_type": "display_data"
    },
    {
     "data": {
      "application/vnd.jupyter.widget-view+json": {
       "model_id": "",
       "version_major": 2,
       "version_minor": 0
      },
      "text/plain": [
       "FloatProgress(value=0.0, bar_style='info', description='Progress:', layout=Layout(height='25px', width='50%'),…"
      ]
     },
     "metadata": {},
     "output_type": "display_data"
    }
   ],
   "source": [
    "from pyspark.sql.functions import datediff, to_date, lit, unix_timestamp"
   ]
  },
  {
   "cell_type": "code",
   "execution_count": 22,
   "metadata": {},
   "outputs": [
    {
     "data": {
      "application/vnd.jupyter.widget-view+json": {
       "model_id": "bbd297defc824f1a82596eccf609d734",
       "version_major": 2,
       "version_minor": 0
      },
      "text/plain": [
       "VBox()"
      ]
     },
     "metadata": {},
     "output_type": "display_data"
    },
    {
     "data": {
      "application/vnd.jupyter.widget-view+json": {
       "model_id": "",
       "version_major": 2,
       "version_minor": 0
      },
      "text/plain": [
       "FloatProgress(value=0.0, bar_style='info', description='Progress:', layout=Layout(height='25px', width='50%'),…"
      ]
     },
     "metadata": {},
     "output_type": "display_data"
    },
    {
     "name": "stdout",
     "output_type": "stream",
     "text": [
      "+----------+---------------------+---------------+-------------------+------------------------+----------+----+----+-----------+------+--------------------+--------------------+---------------+-------------------+--------------------+-------------------+------------------------------------------+\n",
      "|ID de caso|Fecha de notificación|Codigo DIVIPOLA|Ciudad de ubicación|Departamento o Distrito |  atención|Edad|Sexo|       Tipo|Estado| País de procedencia|                 FIS|Fecha de muerte|  Fecha diagnostico|    Fecha recuperado|  fecha reporte web|dias que han pasado desde que se descubrio|\n",
      "+----------+---------------------+---------------+-------------------+------------------------+----------+----+----+-----------+------+--------------------+--------------------+---------------+-------------------+--------------------+-------------------+------------------------------------------+\n",
      "|         1|  2020-03-02 00:00:00|          11001|        Bogotá D.C.|             Bogotá D.C.|Recuperado|  19|   F|  Importado|  Leve|              Italia|2020-02-27T00:00:...|          -   -|2020-03-06 00:00:00|2020-03-13T00:00:...|2020-03-06 00:00:00|                                        56|\n",
      "|         2|  2020-03-06 00:00:00|          76111|Guadalajara de Buga|         Valle del Cauca|Recuperado|  34|   M|  Importado|  Leve|              España|2020-03-04T00:00:...|          -   -|2020-03-09 00:00:00|2020-03-19T00:00:...|2020-03-09 00:00:00|                                        53|\n",
      "|         3|  2020-03-07 00:00:00|           5001|           Medellín|               Antioquia|Recuperado|  50|   F|  Importado|  Leve|              España|2020-02-29T00:00:...|          -   -|2020-03-09 00:00:00|2020-03-15T00:00:...|2020-03-09 00:00:00|                                        53|\n",
      "|         4|  2020-03-09 00:00:00|           5001|           Medellín|               Antioquia|Recuperado|  55|   M|Relacionado|  Leve|            Colombia|2020-03-06T00:00:...|          -   -|2020-03-11 00:00:00|2020-03-26T00:00:...|2020-03-11 00:00:00|                                        51|\n",
      "|         5|  2020-03-09 00:00:00|           5001|           Medellín|               Antioquia|Recuperado|  25|   M|Relacionado|  Leve|            Colombia|2020-03-08T00:00:...|          -   -|2020-03-11 00:00:00|2020-03-23T00:00:...|2020-03-11 00:00:00|                                        51|\n",
      "|         6|  2020-03-10 00:00:00|           5360|             Itagüí|               Antioquia|Recuperado|  27|   F|Relacionado|  Leve|            Colombia|2020-03-06T00:00:...|          -   -|2020-03-11 00:00:00|2020-03-26T00:00:...|2020-03-11 00:00:00|                                        51|\n",
      "|         7|  2020-03-08 00:00:00|          13001|Cartagena de Indias|     Cartagena D.T. y C.|Recuperado|  85|   F|  Importado|  Leve|Estados Unidos de...|2020-03-02T00:00:...|          -   -|2020-03-11 00:00:00|2020-03-17T00:00:...|2020-03-11 00:00:00|                                        51|\n",
      "|         8|  2020-03-09 00:00:00|          11001|        Bogotá D.C.|             Bogotá D.C.|Recuperado|  22|   F|  Importado|  Leve|              España|2020-03-06T00:00:...|          -   -|2020-03-11 00:00:00|2020-03-21T00:00:...|2020-03-11 00:00:00|                                        51|\n",
      "|         9|  2020-03-08 00:00:00|          11001|        Bogotá D.C.|             Bogotá D.C.|Recuperado|  28|   F|  Importado|  Leve|              España|2020-03-07T00:00:...|          -   -|2020-03-11 00:00:00|2020-03-23T00:00:...|2020-03-11 00:00:00|                                        51|\n",
      "|        10|  2020-03-12 00:00:00|          11001|        Bogotá D.C.|             Bogotá D.C.|Recuperado|  36|   F|  Importado|  Leve|              España|2020-03-06T00:00:...|          -   -|2020-03-12 00:00:00|2020-03-21T00:00:...|2020-03-12 00:00:00|                                        50|\n",
      "|        11|  2020-03-11 00:00:00|          11001|        Bogotá D.C.|             Bogotá D.C.|Recuperado|  42|   F|  Importado|  Leve|              España|2020-03-06T00:00:...|          -   -|2020-03-12 00:00:00|2020-03-31T00:00:...|2020-03-12 00:00:00|                                        50|\n",
      "|        12|  2020-03-10 00:00:00|          41001|              Neiva|                   Huila|Recuperado|  74|   F|  Importado|  Leve|              Italia|2020-03-06T00:00:...|          -   -|2020-03-12 00:00:00|2020-04-09T00:00:...|2020-03-12 00:00:00|                                        50|\n",
      "|        13|  2020-03-10 00:00:00|          41001|              Neiva|                   Huila|Recuperado|  68|   F|Relacionado|  Leve|            Colombia|2020-03-06T00:00:...|          -   -|2020-03-12 00:00:00|2020-03-30T00:00:...|2020-03-12 00:00:00|                                        50|\n",
      "|        14|  2020-03-10 00:00:00|          76520|            Palmira|         Valle del Cauca|Recuperado|  48|   M|  Importado|  Leve|              España|2020-03-07T00:00:...|          -   -|2020-03-13 00:00:00|2020-03-21T00:00:...|2020-03-13 00:00:00|                                        49|\n",
      "|        15|  2020-03-13 00:00:00|          50001|      Villavicencio|                    Meta|Recuperado|  30|   F|  Importado|  Leve|              España|2020-03-09T00:00:...|          -   -|2020-03-13 00:00:00|2020-03-23T00:00:...|2020-03-13 00:00:00|                                        49|\n",
      "|        16|  2020-03-11 00:00:00|          11001|        Bogotá D.C.|             Bogotá D.C.|Recuperado|  61|   F|  Importado|  Leve|              Italia|2020-03-08T00:00:...|          -   -|2020-03-13 00:00:00|2020-03-23T00:00:...|2020-03-13 00:00:00|                                        49|\n",
      "|        17|  2020-03-11 00:00:00|          11001|        Bogotá D.C.|             Bogotá D.C.|Recuperado|  73|   F|  Importado|  Leve|              España|2020-02-28T00:00:...|          -   -|2020-03-14 00:00:00|2020-03-14T00:00:...|2020-03-14 00:00:00|                                        48|\n",
      "|        18|  2020-03-11 00:00:00|          11001|        Bogotá D.C.|             Bogotá D.C.|Recuperado|  54|   M|  Importado|  Leve|              España|2020-03-07T00:00:...|          -   -|2020-03-14 00:00:00|2020-04-07T00:00:...|2020-03-14 00:00:00|                                        48|\n",
      "|        19|  2020-03-12 00:00:00|          11001|        Bogotá D.C.|             Bogotá D.C.|Recuperado|  54|   F|Relacionado|  Leve|            Colombia|2020-03-09T00:00:...|          -   -|2020-03-14 00:00:00|2020-03-24T00:00:...|2020-03-14 00:00:00|                                        48|\n",
      "|        20|  2020-03-11 00:00:00|           5001|           Medellín|               Antioquia|Recuperado|  26|   F|Relacionado|  Leve|            Colombia|2020-03-09T00:00:...|          -   -|2020-03-14 00:00:00|2020-03-24T00:00:...|2020-03-14 00:00:00|                                        48|\n",
      "+----------+---------------------+---------------+-------------------+------------------------+----------+----+----+-----------+------+--------------------+--------------------+---------------+-------------------+--------------------+-------------------+------------------------------------------+\n",
      "only showing top 20 rows"
     ]
    }
   ],
   "source": [
    "#Creación de columna\n",
    "df.withColumn(\"Dias desde que se descubrio el caso\", \n",
    "              datediff(to_date(lit(\"2020-05-01\")),\n",
    "                       to_date(unix_timestamp('Fecha diagnostico', \"yyyy/MM/dd\").cast(\"timestamp\")))).show()"
   ]
  },
  {
   "cell_type": "code",
   "execution_count": 29,
   "metadata": {},
   "outputs": [
    {
     "data": {
      "application/vnd.jupyter.widget-view+json": {
       "model_id": "bb942bc12e6d4954a909cdefcc5936d7",
       "version_major": 2,
       "version_minor": 0
      },
      "text/plain": [
       "VBox()"
      ]
     },
     "metadata": {},
     "output_type": "display_data"
    },
    {
     "data": {
      "application/vnd.jupyter.widget-view+json": {
       "model_id": "",
       "version_major": 2,
       "version_minor": 0
      },
      "text/plain": [
       "FloatProgress(value=0.0, bar_style='info', description='Progress:', layout=Layout(height='25px', width='50%'),…"
      ]
     },
     "metadata": {},
     "output_type": "display_data"
    },
    {
     "name": "stdout",
     "output_type": "stream",
     "text": [
      "+----------+---------------------+---------------+-------------------+------------------------+----------+----+----+-----------+------+--------------------+--------------------+---------------+-------------------+--------------------+-------------------+\n",
      "|ID de caso|Fecha de notificación|Codigo DIVIPOLA|Ciudad de ubicación|Departamento o Distrito |  atención|Edad|Sexo|       Tipo|Estado| País de procedencia|                 FIS|Fecha de muerte|  Fecha diagnostico|    Fecha recuperado|  fecha reporte web|\n",
      "+----------+---------------------+---------------+-------------------+------------------------+----------+----+----+-----------+------+--------------------+--------------------+---------------+-------------------+--------------------+-------------------+\n",
      "|         3|  2020-03-07 00:00:00|           5001|           Medellín|               Antioquia|Recuperado|  50|   F|  Importado|  Leve|              España|2020-02-29T00:00:...|          -   -|2020-03-09 00:00:00|2020-03-15T00:00:...|2020-03-09 00:00:00|\n",
      "|         7|  2020-03-08 00:00:00|          13001|Cartagena de Indias|     Cartagena D.T. y C.|Recuperado|  85|   F|  Importado|  Leve|Estados Unidos de...|2020-03-02T00:00:...|          -   -|2020-03-11 00:00:00|2020-03-17T00:00:...|2020-03-11 00:00:00|\n",
      "|        11|  2020-03-11 00:00:00|          11001|        Bogotá D.C.|             Bogotá D.C.|Recuperado|  42|   F|  Importado|  Leve|              España|2020-03-06T00:00:...|          -   -|2020-03-12 00:00:00|2020-03-31T00:00:...|2020-03-12 00:00:00|\n",
      "|        12|  2020-03-10 00:00:00|          41001|              Neiva|                   Huila|Recuperado|  74|   F|  Importado|  Leve|              Italia|2020-03-06T00:00:...|          -   -|2020-03-12 00:00:00|2020-04-09T00:00:...|2020-03-12 00:00:00|\n",
      "|        13|  2020-03-10 00:00:00|          41001|              Neiva|                   Huila|Recuperado|  68|   F|Relacionado|  Leve|            Colombia|2020-03-06T00:00:...|          -   -|2020-03-12 00:00:00|2020-03-30T00:00:...|2020-03-12 00:00:00|\n",
      "|        16|  2020-03-11 00:00:00|          11001|        Bogotá D.C.|             Bogotá D.C.|Recuperado|  61|   F|  Importado|  Leve|              Italia|2020-03-08T00:00:...|          -   -|2020-03-13 00:00:00|2020-03-23T00:00:...|2020-03-13 00:00:00|\n",
      "|        17|  2020-03-11 00:00:00|          11001|        Bogotá D.C.|             Bogotá D.C.|Recuperado|  73|   F|  Importado|  Leve|              España|2020-02-28T00:00:...|          -   -|2020-03-14 00:00:00|2020-03-14T00:00:...|2020-03-14 00:00:00|\n",
      "|        19|  2020-03-12 00:00:00|          11001|        Bogotá D.C.|             Bogotá D.C.|Recuperado|  54|   F|Relacionado|  Leve|            Colombia|2020-03-09T00:00:...|          -   -|2020-03-14 00:00:00|2020-03-24T00:00:...|2020-03-14 00:00:00|\n",
      "|        29|  2020-03-12 00:00:00|          41001|              Neiva|                   Huila|Recuperado|  55|   F|Relacionado|  Leve|            Colombia|2020-03-10T00:00:...|          -   -|2020-03-12 00:00:00|2020-03-25T00:00:...|2020-03-12 00:00:00|\n",
      "|        30|  2020-03-13 00:00:00|          54001|             Cúcuta|      Norte de Santander|Recuperado|  48|   F|  Importado|  Leve|              España|2020-03-11T00:00:...|          -   -|2020-03-15 00:00:00|2020-03-25T00:00:...|2020-03-15 00:00:00|\n",
      "|        37|  2020-03-13 00:00:00|          11001|        Bogotá D.C.|             Bogotá D.C.|Recuperado|  45|   F|Relacionado|  Leve|            Colombia|2020-03-12T00:00:...|          -   -|2020-03-14 00:00:00|2020-03-27T00:00:...|2020-03-14 00:00:00|\n",
      "|        42|  2020-03-14 00:00:00|          41001|              Neiva|                   Huila|Recuperado|  52|   F|Relacionado|  Leve|            Colombia|2020-03-10T00:00:...|          -   -|2020-03-14 00:00:00|2020-03-24T00:00:...|2020-03-14 00:00:00|\n",
      "|        46|  2020-03-13 00:00:00|          11001|        Bogotá D.C.|             Bogotá D.C.|      Casa|  44|   F|Relacionado|  Leve|            Colombia|2020-03-06T00:00:...|          -   -|2020-03-15 00:00:00|               -   -|2020-03-15 00:00:00|\n",
      "|        49|  2020-03-15 00:00:00|          11001|        Bogotá D.C.|             Bogotá D.C.|Recuperado|  41|   F|  Importado|  Leve|              España|2020-03-12T00:00:...|          -   -|2020-03-15 00:00:00|2020-03-27T00:00:...|2020-03-15 00:00:00|\n",
      "|        50|  2020-03-14 00:00:00|          11001|        Bogotá D.C.|             Bogotá D.C.|Recuperado|  67|   F|  Importado|  Leve|              España|2020-03-08T00:00:...|          -   -|2020-03-15 00:00:00|2020-03-23T00:00:...|2020-03-15 00:00:00|\n",
      "|        54|  2020-03-15 00:00:00|          11001|        Bogotá D.C.|             Bogotá D.C.|Recuperado|  42|   F|  Importado|  Leve|              España|2020-03-12T00:00:...|          -   -|2020-03-15 00:00:00|2020-04-02T00:00:...|2020-03-15 00:00:00|\n",
      "|        55|  2020-03-16 00:00:00|          11001|        Bogotá D.C.|             Bogotá D.C.|Recuperado|  58|   F|Relacionado|  Leve|            Colombia|2020-03-05T00:00:...|          -   -|2020-03-16 00:00:00|2020-03-20T00:00:...|2020-03-16 00:00:00|\n",
      "|        73|  2020-03-16 00:00:00|          13001|Cartagena de Indias|     Cartagena D.T. y C.|Recuperado|  54|   F|Relacionado|  Leve|            Colombia|2020-03-14T00:00:...|          -   -|2020-03-17 00:00:00|2020-03-28T00:00:...|2020-03-17 00:00:00|\n",
      "|        75|  2020-03-17 00:00:00|          11001|        Bogotá D.C.|             Bogotá D.C.|Recuperado|  49|   F|Relacionado|  Leve|            Colombia|2020-03-11T00:00:...|          -   -|2020-03-17 00:00:00|2020-03-26T00:00:...|2020-03-17 00:00:00|\n",
      "|        76|  2020-03-14 00:00:00|          63001|            Armenia|                 Quindio|Recuperado|  46|   F|  Importado|  Leve|              Italia|2020-03-13T00:00:...|          -   -|2020-03-17 00:00:00|2020-03-29T00:00:...|2020-03-17 00:00:00|\n",
      "+----------+---------------------+---------------+-------------------+------------------------+----------+----+----+-----------+------+--------------------+--------------------+---------------+-------------------+--------------------+-------------------+\n",
      "only showing top 20 rows"
     ]
    }
   ],
   "source": [
    "#Filtro Mujeres mayores de 40\n",
    "df.filter(df['Sexo']=='F').filter(df['edad'] >40).show()"
   ]
  },
  {
   "cell_type": "code",
   "execution_count": 30,
   "metadata": {},
   "outputs": [
    {
     "data": {
      "application/vnd.jupyter.widget-view+json": {
       "model_id": "84c39d4b242d4c76a4d1be336763955b",
       "version_major": 2,
       "version_minor": 0
      },
      "text/plain": [
       "VBox()"
      ]
     },
     "metadata": {},
     "output_type": "display_data"
    },
    {
     "data": {
      "application/vnd.jupyter.widget-view+json": {
       "model_id": "",
       "version_major": 2,
       "version_minor": 0
      },
      "text/plain": [
       "FloatProgress(value=0.0, bar_style='info', description='Progress:', layout=Layout(height='25px', width='50%'),…"
      ]
     },
     "metadata": {},
     "output_type": "display_data"
    },
    {
     "name": "stdout",
     "output_type": "stream",
     "text": [
      "+----------+---------------------+---------------+-------------------+------------------------+----------+----+----+-----------+--------+--------------------+--------------------+---------------+-------------------+--------------------+-------------------+\n",
      "|ID de caso|Fecha de notificación|Codigo DIVIPOLA|Ciudad de ubicación|Departamento o Distrito |  atención|Edad|Sexo|       Tipo|  Estado| País de procedencia|                 FIS|Fecha de muerte|  Fecha diagnostico|    Fecha recuperado|  fecha reporte web|\n",
      "+----------+---------------------+---------------+-------------------+------------------------+----------+----+----+-----------+--------+--------------------+--------------------+---------------+-------------------+--------------------+-------------------+\n",
      "|        76|  2020-03-14 00:00:00|          63001|            Armenia|                 Quindio|Recuperado|  46|   F|  Importado|    Leve|              Italia|2020-03-13T00:00:...|          -   -|2020-03-17 00:00:00|2020-03-29T00:00:...|2020-03-17 00:00:00|\n",
      "|        77|  2020-03-15 00:00:00|          63001|            Armenia|                 Quindio|Recuperado|  18|   M|  Importado|    Leve|              España|2020-03-11T00:00:...|          -   -|2020-03-17 00:00:00|2020-04-01T00:00:...|2020-03-17 00:00:00|\n",
      "|       120|  2020-03-18 00:00:00|          63001|            Armenia|                 Quindio|Recuperado|  23|   F|Relacionado|    Leve|            Colombia|2020-03-08T00:00:...|          -   -|2020-03-19 00:00:00|2020-04-01T00:00:...|2020-03-19 00:00:00|\n",
      "|       212|  2020-03-20 00:00:00|          63001|            Armenia|                 Quindio|Recuperado|  58|   F|Relacionado|    Leve|            Colombia|2020-03-16T00:00:...|          -   -|2020-03-22 00:00:00|2020-03-30T00:00:...|2020-03-22 00:00:00|\n",
      "|       230|  2020-03-20 00:00:00|          63001|            Armenia|                 Quindio|Recuperado|  38|   F|Relacionado|    Leve|            Colombia|        Asintomático|          -   -|2020-03-22 00:00:00|2020-04-04T00:00:...|2020-03-22 00:00:00|\n",
      "|       278|  2020-03-21 00:00:00|          63001|            Armenia|                 Quindio|Recuperado|  64|   M|  Importado|    Leve|              España|2020-03-13T00:00:...|          -   -|2020-03-23 00:00:00|2020-03-29T00:00:...|2020-03-23 00:00:00|\n",
      "|       431|  2020-03-23 00:00:00|          63001|            Armenia|                 Quindio|Recuperado|  50|   F|Relacionado|    Leve|            Colombia|2020-03-21T00:00:...|          -   -|2020-03-25 00:00:00|2020-04-04T00:00:...|2020-03-25 00:00:00|\n",
      "|       433|  2020-03-22 00:00:00|          63001|            Armenia|                 Quindio|Recuperado|  33|   M|Relacionado|    Leve|            Colombia|2020-03-22T00:00:...|          -   -|2020-03-25 00:00:00|2020-04-05T00:00:...|2020-03-25 00:00:00|\n",
      "|       435|  2020-03-22 00:00:00|          63001|            Armenia|                 Quindio|Recuperado|  19|   M|Relacionado|    Leve|            Colombia|2020-03-21T00:00:...|          -   -|2020-03-25 00:00:00|2020-04-04T00:00:...|2020-03-25 00:00:00|\n",
      "|       460|  2020-03-22 00:00:00|          63001|            Armenia|                 Quindio|Recuperado|  72|   M|Relacionado|    Leve|            Colombia|2020-03-18T00:00:...|          -   -|2020-03-25 00:00:00|2020-04-01T00:00:...|2020-03-25 00:00:00|\n",
      "|       534|  2020-03-24 00:00:00|          63001|            Armenia|                 Quindio|Recuperado|  26|   M|  Importado|    Leve|Estados Unidos de...|2020-03-20T00:00:...|          -   -|2020-03-27 00:00:00|2020-04-12T00:00:...|2020-03-27 00:00:00|\n",
      "|       537|  2020-03-26 00:00:00|          63001|            Armenia|                 Quindio|Recuperado|  34|   F|Relacionado|    Leve|            Colombia|2020-03-12T00:00:...|          -   -|2020-03-27 00:00:00|2020-04-04T00:00:...|2020-03-27 00:00:00|\n",
      "|       601|  2020-03-24 00:00:00|          63001|            Armenia|                 Quindio|Recuperado|  59|   M|  Importado|    Leve|Estados Unidos de...|2020-03-21T00:00:...|          -   -|2020-03-28 00:00:00|2020-04-04T00:00:...|2020-03-28 00:00:00|\n",
      "|       973|  2020-03-26 00:00:00|          63001|            Armenia|                 Quindio|Recuperado|  37|   M|Relacionado|    Leve|            Colombia|2020-03-18T00:00:...|          -   -|2020-04-01 00:00:00|2020-04-11T00:00:...|2020-04-01 00:00:00|\n",
      "|       974|  2020-03-26 00:00:00|          63001|            Armenia|                 Quindio|Recuperado|  58|   F|Relacionado|    Leve|            Colombia|2020-03-20T00:00:...|          -   -|2020-04-01 00:00:00|2020-04-21T00:00:...|2020-04-01 00:00:00|\n",
      "|      1736|  2020-03-27 00:00:00|          63001|            Armenia|                 Quindio|Recuperado|  66|   F|Relacionado|    Leve|            Colombia|2020-03-13T00:00:...|          -   -|2020-04-08 00:00:00|2020-04-13T00:00:...|2020-04-08 00:00:00|\n",
      "|      2396|  2020-04-01 00:00:00|          63001|            Armenia|                 Quindio|Recuperado|  57|   M| En estudio|Moderado|            Colombia|2020-03-22T00:00:...|          -   -|2020-04-10 00:00:00|2020-04-21T00:00:...|2020-04-10 00:00:00|\n",
      "|      2397|  2020-04-01 00:00:00|          63001|            Armenia|                 Quindio|Recuperado|  74|   M|Relacionado|    Leve|            Colombia|2020-03-15T00:00:...|          -   -|2020-04-10 00:00:00|2020-04-08T00:00:...|2020-04-10 00:00:00|\n",
      "+----------+---------------------+---------------+-------------------+------------------------+----------+----+----+-----------+--------+--------------------+--------------------+---------------+-------------------+--------------------+-------------------+"
     ]
    }
   ],
   "source": [
    "#Condición ciudad Armenia y Atención recuperado\n",
    "df.filter((df['Ciudad de ubicación']=='Armenia')&(df['atención']==\"Recuperado\")).show()"
   ]
  },
  {
   "cell_type": "code",
   "execution_count": 31,
   "metadata": {},
   "outputs": [
    {
     "data": {
      "application/vnd.jupyter.widget-view+json": {
       "model_id": "54765c8b670e497fb5d8b08c1da9c678",
       "version_major": 2,
       "version_minor": 0
      },
      "text/plain": [
       "VBox()"
      ]
     },
     "metadata": {},
     "output_type": "display_data"
    },
    {
     "data": {
      "application/vnd.jupyter.widget-view+json": {
       "model_id": "",
       "version_major": 2,
       "version_minor": 0
      },
      "text/plain": [
       "FloatProgress(value=0.0, bar_style='info', description='Progress:', layout=Layout(height='25px', width='50%'),…"
      ]
     },
     "metadata": {},
     "output_type": "display_data"
    },
    {
     "name": "stdout",
     "output_type": "stream",
     "text": [
      "+-------------------+-----+\n",
      "|Ciudad de ubicación|count|\n",
      "+-------------------+-----+\n",
      "|Bogotá D.C.        |2543 |\n",
      "|Cali               |713  |\n",
      "|Villavicencio      |344  |\n",
      "|Medellín           |305  |\n",
      "|Cartagena de Indias|246  |\n",
      "+-------------------+-----+\n",
      "only showing top 5 rows"
     ]
    }
   ],
   "source": [
    "#Agrupamiento por mayor cantidad de casos en ciudades \n",
    "df.groupBy('Ciudad de ubicación').count().orderBy('count',ascending=False).show(5,False)"
   ]
  },
  {
   "cell_type": "code",
   "execution_count": 32,
   "metadata": {},
   "outputs": [
    {
     "data": {
      "application/vnd.jupyter.widget-view+json": {
       "model_id": "0992e8c09fbb4e998e2957c2f924819b",
       "version_major": 2,
       "version_minor": 0
      },
      "text/plain": [
       "VBox()"
      ]
     },
     "metadata": {},
     "output_type": "display_data"
    },
    {
     "data": {
      "application/vnd.jupyter.widget-view+json": {
       "model_id": "",
       "version_major": 2,
       "version_minor": 0
      },
      "text/plain": [
       "FloatProgress(value=0.0, bar_style='info', description='Progress:', layout=Layout(height='25px', width='50%'),…"
      ]
     },
     "metadata": {},
     "output_type": "display_data"
    },
    {
     "name": "stdout",
     "output_type": "stream",
     "text": [
      "+------------+------------------+--------------------+------------------+\n",
      "|Atención    |avg(ID de caso)   |avg(Codigo DIVIPOLA)|avg(Edad)         |\n",
      "+------------+------------------+--------------------+------------------+\n",
      "|Hospital UCI|2789.982905982906 |37169.666666666664  |56.666666666666664|\n",
      "|Fallecido   |2409.248201438849 |33502.374100719426  |66.38129496402878 |\n",
      "|Casa        |3746.7800246609127|30915.82540073983   |38.25647348951911 |\n",
      "|Hospital    |4205.312865497076 |34303.26023391813   |52.73391812865497 |\n",
      "|N/A         |4801.0            |11001.0             |20.0              |\n",
      "+------------+------------------+--------------------+------------------+\n",
      "only showing top 5 rows"
     ]
    }
   ],
   "source": [
    "# Agrupación por tipo de atención y promedio\n",
    "df.groupBy('Atención').mean().show(5,False)"
   ]
  },
  {
   "cell_type": "code",
   "execution_count": 36,
   "metadata": {},
   "outputs": [
    {
     "data": {
      "application/vnd.jupyter.widget-view+json": {
       "model_id": "ef20b5b1c85d4cd4a5016851a198aa60",
       "version_major": 2,
       "version_minor": 0
      },
      "text/plain": [
       "VBox()"
      ]
     },
     "metadata": {},
     "output_type": "display_data"
    },
    {
     "data": {
      "application/vnd.jupyter.widget-view+json": {
       "model_id": "",
       "version_major": 2,
       "version_minor": 0
      },
      "text/plain": [
       "FloatProgress(value=0.0, bar_style='info', description='Progress:', layout=Layout(height='25px', width='50%'),…"
      ]
     },
     "metadata": {},
     "output_type": "display_data"
    }
   ],
   "source": [
    "from pyspark.sql.functions import udf"
   ]
  },
  {
   "cell_type": "code",
   "execution_count": 41,
   "metadata": {},
   "outputs": [
    {
     "data": {
      "application/vnd.jupyter.widget-view+json": {
       "model_id": "5801023c76554dcfb2bedbf3aa4f685e",
       "version_major": 2,
       "version_minor": 0
      },
      "text/plain": [
       "VBox()"
      ]
     },
     "metadata": {},
     "output_type": "display_data"
    },
    {
     "data": {
      "application/vnd.jupyter.widget-view+json": {
       "model_id": "",
       "version_major": 2,
       "version_minor": 0
      },
      "text/plain": [
       "FloatProgress(value=0.0, bar_style='info', description='Progress:', layout=Layout(height='25px', width='50%'),…"
      ]
     },
     "metadata": {},
     "output_type": "display_data"
    }
   ],
   "source": [
    "#Cración de función\n",
    "def danger_range(age, atencion):\n",
    "    if atencion in ['Hospital UCI','Hospital']:\n",
    "        if age > 60:\n",
    "            return 'Peligro alto'\n",
    "        else:\n",
    "            return 'Peligro moderado'\n",
    "    elif atencion == 'Casa':\n",
    "        if age < 60:\n",
    "            return 'Poco peligro'\n",
    "        else:\n",
    "            return 'Peligro moderado'\n",
    "    elif atencion == \"Recuperado\":\n",
    "        return 'Sin peligro'\n",
    "    else:\n",
    "        return 'Sin clasificación'"
   ]
  },
  {
   "cell_type": "code",
   "execution_count": 42,
   "metadata": {},
   "outputs": [
    {
     "data": {
      "application/vnd.jupyter.widget-view+json": {
       "model_id": "b3eb94370ca54cf0bd47a63de6c2f89a",
       "version_major": 2,
       "version_minor": 0
      },
      "text/plain": [
       "VBox()"
      ]
     },
     "metadata": {},
     "output_type": "display_data"
    },
    {
     "data": {
      "application/vnd.jupyter.widget-view+json": {
       "model_id": "",
       "version_major": 2,
       "version_minor": 0
      },
      "text/plain": [
       "FloatProgress(value=0.0, bar_style='info', description='Progress:', layout=Layout(height='25px', width='50%'),…"
      ]
     },
     "metadata": {},
     "output_type": "display_data"
    },
    {
     "name": "stdout",
     "output_type": "stream",
     "text": [
      "+----------+---------------------+---------------+-------------------+------------------------+----------+----+----+-----------+------+-------------------------+-----------------------+---------------+-------------------+-----------------------+-------------------+------------+\n",
      "|ID de caso|Fecha de notificación|Codigo DIVIPOLA|Ciudad de ubicación|Departamento o Distrito |atención  |Edad|Sexo|Tipo       |Estado|País de procedencia      |FIS                    |Fecha de muerte|Fecha diagnostico  |Fecha recuperado       |fecha reporte web  |danger_range|\n",
      "+----------+---------------------+---------------+-------------------+------------------------+----------+----+----+-----------+------+-------------------------+-----------------------+---------------+-------------------+-----------------------+-------------------+------------+\n",
      "|1         |2020-03-02 00:00:00  |11001          |Bogotá D.C.        |Bogotá D.C.             |Recuperado|19  |F   |Importado  |Leve  |Italia                   |2020-02-27T00:00:00.000|-   -          |2020-03-06 00:00:00|2020-03-13T00:00:00.000|2020-03-06 00:00:00|Sin peligro |\n",
      "|2         |2020-03-06 00:00:00  |76111          |Guadalajara de Buga|Valle del Cauca         |Recuperado|34  |M   |Importado  |Leve  |España                   |2020-03-04T00:00:00.000|-   -          |2020-03-09 00:00:00|2020-03-19T00:00:00.000|2020-03-09 00:00:00|Sin peligro |\n",
      "|3         |2020-03-07 00:00:00  |5001           |Medellín           |Antioquia               |Recuperado|50  |F   |Importado  |Leve  |España                   |2020-02-29T00:00:00.000|-   -          |2020-03-09 00:00:00|2020-03-15T00:00:00.000|2020-03-09 00:00:00|Sin peligro |\n",
      "|4         |2020-03-09 00:00:00  |5001           |Medellín           |Antioquia               |Recuperado|55  |M   |Relacionado|Leve  |Colombia                 |2020-03-06T00:00:00.000|-   -          |2020-03-11 00:00:00|2020-03-26T00:00:00.000|2020-03-11 00:00:00|Sin peligro |\n",
      "|5         |2020-03-09 00:00:00  |5001           |Medellín           |Antioquia               |Recuperado|25  |M   |Relacionado|Leve  |Colombia                 |2020-03-08T00:00:00.000|-   -          |2020-03-11 00:00:00|2020-03-23T00:00:00.000|2020-03-11 00:00:00|Sin peligro |\n",
      "|6         |2020-03-10 00:00:00  |5360           |Itagüí             |Antioquia               |Recuperado|27  |F   |Relacionado|Leve  |Colombia                 |2020-03-06T00:00:00.000|-   -          |2020-03-11 00:00:00|2020-03-26T00:00:00.000|2020-03-11 00:00:00|Sin peligro |\n",
      "|7         |2020-03-08 00:00:00  |13001          |Cartagena de Indias|Cartagena D.T. y C.     |Recuperado|85  |F   |Importado  |Leve  |Estados Unidos de América|2020-03-02T00:00:00.000|-   -          |2020-03-11 00:00:00|2020-03-17T00:00:00.000|2020-03-11 00:00:00|Sin peligro |\n",
      "|8         |2020-03-09 00:00:00  |11001          |Bogotá D.C.        |Bogotá D.C.             |Recuperado|22  |F   |Importado  |Leve  |España                   |2020-03-06T00:00:00.000|-   -          |2020-03-11 00:00:00|2020-03-21T00:00:00.000|2020-03-11 00:00:00|Sin peligro |\n",
      "|9         |2020-03-08 00:00:00  |11001          |Bogotá D.C.        |Bogotá D.C.             |Recuperado|28  |F   |Importado  |Leve  |España                   |2020-03-07T00:00:00.000|-   -          |2020-03-11 00:00:00|2020-03-23T00:00:00.000|2020-03-11 00:00:00|Sin peligro |\n",
      "|10        |2020-03-12 00:00:00  |11001          |Bogotá D.C.        |Bogotá D.C.             |Recuperado|36  |F   |Importado  |Leve  |España                   |2020-03-06T00:00:00.000|-   -          |2020-03-12 00:00:00|2020-03-21T00:00:00.000|2020-03-12 00:00:00|Sin peligro |\n",
      "+----------+---------------------+---------------+-------------------+------------------------+----------+----+----+-----------+------+-------------------------+-----------------------+---------------+-------------------+-----------------------+-------------------+------------+\n",
      "only showing top 10 rows"
     ]
    }
   ],
   "source": [
    "#create udf using python function\n",
    "age_udf=udf(danger_range,StringType())\n",
    "#apply udf on dataframe\n",
    "df.withColumn('danger_range',age_udf(df['Edad'], df['atención'])).show(10,False)"
   ]
  },
  {
   "cell_type": "code",
   "execution_count": 43,
   "metadata": {},
   "outputs": [
    {
     "data": {
      "application/vnd.jupyter.widget-view+json": {
       "model_id": "c21cf2c8cc6845ffaf9f15bf85ba9724",
       "version_major": 2,
       "version_minor": 0
      },
      "text/plain": [
       "VBox()"
      ]
     },
     "metadata": {},
     "output_type": "display_data"
    },
    {
     "data": {
      "application/vnd.jupyter.widget-view+json": {
       "model_id": "",
       "version_major": 2,
       "version_minor": 0
      },
      "text/plain": [
       "FloatProgress(value=0.0, bar_style='info', description='Progress:', layout=Layout(height='25px', width='50%'),…"
      ]
     },
     "metadata": {},
     "output_type": "display_data"
    }
   ],
   "source": [
    "#Guardando datos (csv)"
   ]
  },
  {
   "cell_type": "code",
   "execution_count": 44,
   "metadata": {},
   "outputs": [
    {
     "data": {
      "application/vnd.jupyter.widget-view+json": {
       "model_id": "c1b16d8daa0a49ac8d7f238ba8aaea53",
       "version_major": 2,
       "version_minor": 0
      },
      "text/plain": [
       "VBox()"
      ]
     },
     "metadata": {},
     "output_type": "display_data"
    },
    {
     "data": {
      "application/vnd.jupyter.widget-view+json": {
       "model_id": "",
       "version_major": 2,
       "version_minor": 0
      },
      "text/plain": [
       "FloatProgress(value=0.0, bar_style='info', description='Progress:', layout=Layout(height='25px', width='50%'),…"
      ]
     },
     "metadata": {},
     "output_type": "display_data"
    }
   ],
   "source": [
    "#Directorio actual\n",
    "pwd"
   ]
  },
  {
   "cell_type": "code",
   "execution_count": 45,
   "metadata": {},
   "outputs": [
    {
     "data": {
      "application/vnd.jupyter.widget-view+json": {
       "model_id": "9ddf3ff4b58d4690805540e0130667d6",
       "version_major": 2,
       "version_minor": 0
      },
      "text/plain": [
       "VBox()"
      ]
     },
     "metadata": {},
     "output_type": "display_data"
    },
    {
     "data": {
      "application/vnd.jupyter.widget-view+json": {
       "model_id": "",
       "version_major": 2,
       "version_minor": 0
      },
      "text/plain": [
       "FloatProgress(value=0.0, bar_style='info', description='Progress:', layout=Layout(height='25px', width='50%'),…"
      ]
     },
     "metadata": {},
     "output_type": "display_data"
    }
   ],
   "source": [
    "#directorio objetivo\n",
    "write_uri='s3://jaromanpdatasets/datasets/spark/df_csv'"
   ]
  },
  {
   "cell_type": "code",
   "execution_count": 46,
   "metadata": {},
   "outputs": [
    {
     "data": {
      "application/vnd.jupyter.widget-view+json": {
       "model_id": "5ad50f67572843968bf2995051ea69b8",
       "version_major": 2,
       "version_minor": 0
      },
      "text/plain": [
       "VBox()"
      ]
     },
     "metadata": {},
     "output_type": "display_data"
    },
    {
     "data": {
      "application/vnd.jupyter.widget-view+json": {
       "model_id": "",
       "version_major": 2,
       "version_minor": 0
      },
      "text/plain": [
       "FloatProgress(value=0.0, bar_style='info', description='Progress:', layout=Layout(height='25px', width='50%'),…"
      ]
     },
     "metadata": {},
     "output_type": "display_data"
    }
   ],
   "source": [
    "#Guardando dataframe como un solo archivo csv\n",
    "df.coalesce(1).write.format(\"csv\").option(\"header\",\"true\").save(write_uri)"
   ]
  },
  {
   "cell_type": "code",
   "execution_count": 47,
   "metadata": {},
   "outputs": [
    {
     "data": {
      "application/vnd.jupyter.widget-view+json": {
       "model_id": "8cc0a56e1a8e416fa727cdaa0f5a1d6c",
       "version_major": 2,
       "version_minor": 0
      },
      "text/plain": [
       "VBox()"
      ]
     },
     "metadata": {},
     "output_type": "display_data"
    },
    {
     "data": {
      "application/vnd.jupyter.widget-view+json": {
       "model_id": "",
       "version_major": 2,
       "version_minor": 0
      },
      "text/plain": [
       "FloatProgress(value=0.0, bar_style='info', description='Progress:', layout=Layout(height='25px', width='50%'),…"
      ]
     },
     "metadata": {},
     "output_type": "display_data"
    }
   ],
   "source": [
    "#Guardado de datos en formato parket"
   ]
  },
  {
   "cell_type": "code",
   "execution_count": 61,
   "metadata": {},
   "outputs": [
    {
     "data": {
      "application/vnd.jupyter.widget-view+json": {
       "model_id": "a8b02f229ecb4ae5af157d9259199209",
       "version_major": 2,
       "version_minor": 0
      },
      "text/plain": [
       "VBox()"
      ]
     },
     "metadata": {},
     "output_type": "display_data"
    },
    {
     "data": {
      "application/vnd.jupyter.widget-view+json": {
       "model_id": "",
       "version_major": 2,
       "version_minor": 0
      },
      "text/plain": [
       "FloatProgress(value=0.0, bar_style='info', description='Progress:', layout=Layout(height='25px', width='50%'),…"
      ]
     },
     "metadata": {},
     "output_type": "display_data"
    }
   ],
   "source": []
  },
  {
   "cell_type": "code",
   "execution_count": 62,
   "metadata": {},
   "outputs": [
    {
     "data": {
      "application/vnd.jupyter.widget-view+json": {
       "model_id": "fd78eb5f03b143f4abcd22b04ecc801e",
       "version_major": 2,
       "version_minor": 0
      },
      "text/plain": [
       "VBox()"
      ]
     },
     "metadata": {},
     "output_type": "display_data"
    },
    {
     "data": {
      "application/vnd.jupyter.widget-view+json": {
       "model_id": "",
       "version_major": 2,
       "version_minor": 0
      },
      "text/plain": [
       "FloatProgress(value=0.0, bar_style='info', description='Progress:', layout=Layout(height='25px', width='50%'),…"
      ]
     },
     "metadata": {},
     "output_type": "display_data"
    }
   ],
   "source": [
    "#directorio objetivo\n",
    "parquet_uri='s3://jaromanpdatasets/datasets/spark/df_parquet'"
   ]
  },
  {
   "cell_type": "code",
   "execution_count": 63,
   "metadata": {},
   "outputs": [
    {
     "data": {
      "application/vnd.jupyter.widget-view+json": {
       "model_id": "6ee676293e164c288b235d658e8647d1",
       "version_major": 2,
       "version_minor": 0
      },
      "text/plain": [
       "VBox()"
      ]
     },
     "metadata": {},
     "output_type": "display_data"
    },
    {
     "data": {
      "application/vnd.jupyter.widget-view+json": {
       "model_id": "",
       "version_major": 2,
       "version_minor": 0
      },
      "text/plain": [
       "FloatProgress(value=0.0, bar_style='info', description='Progress:', layout=Layout(height='25px', width='50%'),…"
      ]
     },
     "metadata": {},
     "output_type": "display_data"
    },
    {
     "name": "stderr",
     "output_type": "stream",
     "text": [
           
     ]
    }
   ],
   "source": [
    "#Salvado de datos en parquet\n",
    "df.write.format('parquet').save(parquet_uri)"
   ]
  },
  {
   "cell_type": "code",
   "execution_count": null,
   "metadata": {},
   "outputs": [],
   "source": []
  }
 ],
 "metadata": {
  "kernelspec": {
   "display_name": "PySpark",
   "language": "",
   "name": "pysparkkernel"
  },
  "language_info": {
   "codemirror_mode": {
    "name": "python",
    "version": 2
   },
   "mimetype": "text/x-python",
   "name": "pyspark",
   "pygments_lexer": "python2"
  }
 },
 "nbformat": 4,
 "nbformat_minor": 4
}
