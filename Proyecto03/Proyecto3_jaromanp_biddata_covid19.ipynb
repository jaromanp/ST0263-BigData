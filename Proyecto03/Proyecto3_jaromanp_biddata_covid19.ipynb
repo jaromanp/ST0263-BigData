{
 "cells": [
  {
   "cell_type": "markdown",
   "metadata": {},
   "source": [
    "# Proyecto 3\n",
    "## Tópicos especiales en Telemática\n",
    "## Big Data - Covid 19"
   ]
  },
  {
   "cell_type": "code",
   "execution_count": 1,
   "metadata": {},
   "outputs": [
    {
     "data": {
      "application/vnd.jupyter.widget-view+json": {
       "model_id": "692e0687cbe940cca283806dcf391d56",
       "version_major": 2,
       "version_minor": 0
      },
      "text/plain": [
       "VBox()"
      ]
     },
     "metadata": {},
     "output_type": "display_data"
    },
    {
     "name": "stdout",
     "output_type": "stream",
     "text": [
      "Starting Spark application\n"
     ]
    },
    {
     "data": {
      "text/html": [
       "<table>\n",
       "<tr><th>ID</th><th>YARN Application ID</th><th>Kind</th><th>State</th><th>Spark UI</th><th>Driver log</th><th>Current session?</th></tr><tr><td>5</td><td>application_1589718614500_0006</td><td>pyspark</td><td>idle</td><td><a target=\"_blank\" href=\"http://ip-172-31-58-146.ec2.internal:20888/proxy/application_1589718614500_0006/\">Link</a></td><td><a target=\"_blank\" href=\"http://ip-172-31-48-198.ec2.internal:8042/node/containerlogs/container_1589718614500_0006_01_000001/livy\">Link</a></td><td>✔</td></tr></table>"
      ],
      "text/plain": [
       "<IPython.core.display.HTML object>"
      ]
     },
     "metadata": {},
     "output_type": "display_data"
    },
    {
     "data": {
      "application/vnd.jupyter.widget-view+json": {
       "model_id": "",
       "version_major": 2,
       "version_minor": 0
      },
      "text/plain": [
       "FloatProgress(value=0.0, bar_style='info', description='Progress:', layout=Layout(height='25px', width='50%'),…"
      ]
     },
     "metadata": {},
     "output_type": "display_data"
    },
    {
     "name": "stdout",
     "output_type": "stream",
     "text": [
      "SparkSession available as 'spark'.\n"
     ]
    },
    {
     "data": {
      "application/vnd.jupyter.widget-view+json": {
       "model_id": "",
       "version_major": 2,
       "version_minor": 0
      },
      "text/plain": [
       "FloatProgress(value=0.0, bar_style='info', description='Progress:', layout=Layout(height='25px', width='50%'),…"
      ]
     },
     "metadata": {},
     "output_type": "display_data"
    }
   ],
   "source": [
    "#import SparkSession\n",
    "from pyspark.sql import SparkSession\n",
    "from pyspark.sql.types import StringType,DoubleType,IntegerType\n",
    "from pyspark.sql.functions import datediff, to_date, lit, unix_timestamp"
   ]
  },
  {
   "cell_type": "code",
   "execution_count": 2,
   "metadata": {},
   "outputs": [
    {
     "data": {
      "application/vnd.jupyter.widget-view+json": {
       "model_id": "6c15ec06c1fa4201b51dd1e92cc4075b",
       "version_major": 2,
       "version_minor": 0
      },
      "text/plain": [
       "VBox()"
      ]
     },
     "metadata": {},
     "output_type": "display_data"
    },
    {
     "data": {
      "application/vnd.jupyter.widget-view+json": {
       "model_id": "",
       "version_major": 2,
       "version_minor": 0
      },
      "text/plain": [
       "FloatProgress(value=0.0, bar_style='info', description='Progress:', layout=Layout(height='25px', width='50%'),…"
      ]
     },
     "metadata": {},
     "output_type": "display_data"
    }
   ],
   "source": [
    "#create spar session object\n",
    "spark=SparkSession.builder.appName('data_processing').getOrCreate()"
   ]
  },
  {
   "cell_type": "markdown",
   "metadata": {},
   "source": [
    "## Carga de datos desde el datalake"
   ]
  },
  {
   "cell_type": "code",
   "execution_count": 3,
   "metadata": {},
   "outputs": [
    {
     "data": {
      "application/vnd.jupyter.widget-view+json": {
       "model_id": "a7190042a87f4c7482d3e7a324c28250",
       "version_major": 2,
       "version_minor": 0
      },
      "text/plain": [
       "VBox()"
      ]
     },
     "metadata": {},
     "output_type": "display_data"
    },
    {
     "data": {
      "application/vnd.jupyter.widget-view+json": {
       "model_id": "",
       "version_major": 2,
       "version_minor": 0
      },
      "text/plain": [
       "FloatProgress(value=0.0, bar_style='info', description='Progress:', layout=Layout(height='25px', width='50%'),…"
      ]
     },
     "metadata": {},
     "output_type": "display_data"
    }
   ],
   "source": [
    "#Colombia\n",
    "df_col=spark.read.csv('s3://jaromanp/covid19data/Casos_positivos_de_COVID-19_en_Colombia.csv',inferSchema=True,header=True)"
   ]
  },
  {
   "cell_type": "code",
   "execution_count": 4,
   "metadata": {},
   "outputs": [
    {
     "data": {
      "application/vnd.jupyter.widget-view+json": {
       "model_id": "1ea33fb6e63042bc8e5958136fdc001e",
       "version_major": 2,
       "version_minor": 0
      },
      "text/plain": [
       "VBox()"
      ]
     },
     "metadata": {},
     "output_type": "display_data"
    },
    {
     "data": {
      "application/vnd.jupyter.widget-view+json": {
       "model_id": "",
       "version_major": 2,
       "version_minor": 0
      },
      "text/plain": [
       "FloatProgress(value=0.0, bar_style='info', description='Progress:', layout=Layout(height='25px', width='50%'),…"
      ]
     },
     "metadata": {},
     "output_type": "display_data"
    }
   ],
   "source": [
    "#Global\n",
    "df_glo=spark.read.csv('s3://jaromanp/covid19data/WHO-COVID-19-global-data.csv',inferSchema=True,header=True)"
   ]
  },
  {
   "cell_type": "code",
   "execution_count": 5,
   "metadata": {},
   "outputs": [
    {
     "data": {
      "application/vnd.jupyter.widget-view+json": {
       "model_id": "20ea9568fb864aaea4989b6bb5664760",
       "version_major": 2,
       "version_minor": 0
      },
      "text/plain": [
       "VBox()"
      ]
     },
     "metadata": {},
     "output_type": "display_data"
    },
    {
     "data": {
      "application/vnd.jupyter.widget-view+json": {
       "model_id": "",
       "version_major": 2,
       "version_minor": 0
      },
      "text/plain": [
       "FloatProgress(value=0.0, bar_style='info', description='Progress:', layout=Layout(height='25px', width='50%'),…"
      ]
     },
     "metadata": {},
     "output_type": "display_data"
    }
   ],
   "source": [
    "#Numero de pruebas a nivel mundial por país\n",
    "df_test=spark.read.csv('s3://jaromanp/covid19data/covid-19-tests-country.csv',inferSchema=True,header=True)"
   ]
  },
  {
   "cell_type": "markdown",
   "metadata": {},
   "source": [
    "# Análisis exploratorio"
   ]
  },
  {
   "cell_type": "markdown",
   "metadata": {},
   "source": [
    "## Información general de los datasets"
   ]
  },
  {
   "cell_type": "markdown",
   "metadata": {},
   "source": [
    "### 1. Columnas"
   ]
  },
  {
   "cell_type": "code",
   "execution_count": 6,
   "metadata": {},
   "outputs": [
    {
     "data": {
      "application/vnd.jupyter.widget-view+json": {
       "model_id": "ae40a0865c5248dfbb4f6f741a6e20d1",
       "version_major": 2,
       "version_minor": 0
      },
      "text/plain": [
       "VBox()"
      ]
     },
     "metadata": {},
     "output_type": "display_data"
    },
    {
     "data": {
      "application/vnd.jupyter.widget-view+json": {
       "model_id": "",
       "version_major": 2,
       "version_minor": 0
      },
      "text/plain": [
       "FloatProgress(value=0.0, bar_style='info', description='Progress:', layout=Layout(height='25px', width='50%'),…"
      ]
     },
     "metadata": {},
     "output_type": "display_data"
    },
    {
     "name": "stdout",
     "output_type": "stream",
     "text": [
      "['ID de caso', 'Fecha de notificación', 'Codigo DIVIPOLA', 'Ciudad de ubicación', 'Departamento o Distrito ', 'atención', 'Edad', 'Sexo', 'Tipo', 'Estado', 'País de procedencia', 'FIS', 'Fecha de muerte', 'Fecha diagnostico', 'Fecha recuperado', 'fecha reporte web']"
     ]
    }
   ],
   "source": [
    "### Colombia\n",
    "df_col.columns"
   ]
  },
  {
   "cell_type": "code",
   "execution_count": 7,
   "metadata": {},
   "outputs": [
    {
     "data": {
      "application/vnd.jupyter.widget-view+json": {
       "model_id": "a1e3274d80b542cf8e28a99fb242a5ee",
       "version_major": 2,
       "version_minor": 0
      },
      "text/plain": [
       "VBox()"
      ]
     },
     "metadata": {},
     "output_type": "display_data"
    },
    {
     "data": {
      "application/vnd.jupyter.widget-view+json": {
       "model_id": "",
       "version_major": 2,
       "version_minor": 0
      },
      "text/plain": [
       "FloatProgress(value=0.0, bar_style='info', description='Progress:', layout=Layout(height='25px', width='50%'),…"
      ]
     },
     "metadata": {},
     "output_type": "display_data"
    },
    {
     "name": "stdout",
     "output_type": "stream",
     "text": [
      "['day', 'Country', 'Country Name', 'Region', 'Deaths', 'Cumulative Deaths', 'Confirmed', 'Cumulative Confirmed']"
     ]
    }
   ],
   "source": [
    "#Columnas global\n",
    "df_glo.columns"
   ]
  },
  {
   "cell_type": "code",
   "execution_count": 8,
   "metadata": {},
   "outputs": [
    {
     "data": {
      "application/vnd.jupyter.widget-view+json": {
       "model_id": "c0c066e015974b6bafd12f0b4c8abb85",
       "version_major": 2,
       "version_minor": 0
      },
      "text/plain": [
       "VBox()"
      ]
     },
     "metadata": {},
     "output_type": "display_data"
    },
    {
     "data": {
      "application/vnd.jupyter.widget-view+json": {
       "model_id": "",
       "version_major": 2,
       "version_minor": 0
      },
      "text/plain": [
       "FloatProgress(value=0.0, bar_style='info', description='Progress:', layout=Layout(height='25px', width='50%'),…"
      ]
     },
     "metadata": {},
     "output_type": "display_data"
    },
    {
     "name": "stdout",
     "output_type": "stream",
     "text": [
      "['Entity', 'Code', 'Year', 'Total COVID-19 tests']"
     ]
    }
   ],
   "source": [
    "df_test.columns"
   ]
  },
  {
   "cell_type": "markdown",
   "metadata": {},
   "source": [
    "### 2. Cantidad de columnas"
   ]
  },
  {
   "cell_type": "code",
   "execution_count": 9,
   "metadata": {},
   "outputs": [
    {
     "data": {
      "application/vnd.jupyter.widget-view+json": {
       "model_id": "b55d0da339084056821d6bef14388efb",
       "version_major": 2,
       "version_minor": 0
      },
      "text/plain": [
       "VBox()"
      ]
     },
     "metadata": {},
     "output_type": "display_data"
    },
    {
     "data": {
      "application/vnd.jupyter.widget-view+json": {
       "model_id": "",
       "version_major": 2,
       "version_minor": 0
      },
      "text/plain": [
       "FloatProgress(value=0.0, bar_style='info', description='Progress:', layout=Layout(height='25px', width='50%'),…"
      ]
     },
     "metadata": {},
     "output_type": "display_data"
    },
    {
     "name": "stdout",
     "output_type": "stream",
     "text": [
      "16"
     ]
    }
   ],
   "source": [
    "#Colombia\n",
    "len(df_col.columns)"
   ]
  },
  {
   "cell_type": "code",
   "execution_count": 10,
   "metadata": {},
   "outputs": [
    {
     "data": {
      "application/vnd.jupyter.widget-view+json": {
       "model_id": "ea1cf3786adb477c89b62b51429c1d19",
       "version_major": 2,
       "version_minor": 0
      },
      "text/plain": [
       "VBox()"
      ]
     },
     "metadata": {},
     "output_type": "display_data"
    },
    {
     "data": {
      "application/vnd.jupyter.widget-view+json": {
       "model_id": "",
       "version_major": 2,
       "version_minor": 0
      },
      "text/plain": [
       "FloatProgress(value=0.0, bar_style='info', description='Progress:', layout=Layout(height='25px', width='50%'),…"
      ]
     },
     "metadata": {},
     "output_type": "display_data"
    },
    {
     "name": "stdout",
     "output_type": "stream",
     "text": [
      "8"
     ]
    }
   ],
   "source": [
    "#Global\n",
    "len(df_glo.columns)"
   ]
  },
  {
   "cell_type": "code",
   "execution_count": 11,
   "metadata": {},
   "outputs": [
    {
     "data": {
      "application/vnd.jupyter.widget-view+json": {
       "model_id": "fffefaeadc0b4278a99c2d491a0e9673",
       "version_major": 2,
       "version_minor": 0
      },
      "text/plain": [
       "VBox()"
      ]
     },
     "metadata": {},
     "output_type": "display_data"
    },
    {
     "data": {
      "application/vnd.jupyter.widget-view+json": {
       "model_id": "",
       "version_major": 2,
       "version_minor": 0
      },
      "text/plain": [
       "FloatProgress(value=0.0, bar_style='info', description='Progress:', layout=Layout(height='25px', width='50%'),…"
      ]
     },
     "metadata": {},
     "output_type": "display_data"
    },
    {
     "name": "stdout",
     "output_type": "stream",
     "text": [
      "8"
     ]
    }
   ],
   "source": [
    "#Test\n",
    "len(df_glo.columns)"
   ]
  },
  {
   "cell_type": "markdown",
   "metadata": {},
   "source": [
    "### 3. Número de registros "
   ]
  },
  {
   "cell_type": "code",
   "execution_count": 12,
   "metadata": {},
   "outputs": [
    {
     "data": {
      "application/vnd.jupyter.widget-view+json": {
       "model_id": "033af160f661415aa3fcf1d02b96bd02",
       "version_major": 2,
       "version_minor": 0
      },
      "text/plain": [
       "VBox()"
      ]
     },
     "metadata": {},
     "output_type": "display_data"
    },
    {
     "data": {
      "application/vnd.jupyter.widget-view+json": {
       "model_id": "",
       "version_major": 2,
       "version_minor": 0
      },
      "text/plain": [
       "FloatProgress(value=0.0, bar_style='info', description='Progress:', layout=Layout(height='25px', width='50%'),…"
      ]
     },
     "metadata": {},
     "output_type": "display_data"
    },
    {
     "name": "stdout",
     "output_type": "stream",
     "text": [
      "14939"
     ]
    }
   ],
   "source": [
    "#Colombia \n",
    "df_col.count()"
   ]
  },
  {
   "cell_type": "code",
   "execution_count": 13,
   "metadata": {},
   "outputs": [
    {
     "data": {
      "application/vnd.jupyter.widget-view+json": {
       "model_id": "0ce73ce783814b969742f094094e82cb",
       "version_major": 2,
       "version_minor": 0
      },
      "text/plain": [
       "VBox()"
      ]
     },
     "metadata": {},
     "output_type": "display_data"
    },
    {
     "data": {
      "application/vnd.jupyter.widget-view+json": {
       "model_id": "",
       "version_major": 2,
       "version_minor": 0
      },
      "text/plain": [
       "FloatProgress(value=0.0, bar_style='info', description='Progress:', layout=Layout(height='25px', width='50%'),…"
      ]
     },
     "metadata": {},
     "output_type": "display_data"
    },
    {
     "name": "stdout",
     "output_type": "stream",
     "text": [
      "15462"
     ]
    }
   ],
   "source": [
    "#Global\n",
    "df_glo.count()"
   ]
  },
  {
   "cell_type": "code",
   "execution_count": 14,
   "metadata": {},
   "outputs": [
    {
     "data": {
      "application/vnd.jupyter.widget-view+json": {
       "model_id": "69fe72dfc1d34ba0a915c7a5508e9ec6",
       "version_major": 2,
       "version_minor": 0
      },
      "text/plain": [
       "VBox()"
      ]
     },
     "metadata": {},
     "output_type": "display_data"
    },
    {
     "data": {
      "application/vnd.jupyter.widget-view+json": {
       "model_id": "",
       "version_major": 2,
       "version_minor": 0
      },
      "text/plain": [
       "FloatProgress(value=0.0, bar_style='info', description='Progress:', layout=Layout(height='25px', width='50%'),…"
      ]
     },
     "metadata": {},
     "output_type": "display_data"
    },
    {
     "name": "stdout",
     "output_type": "stream",
     "text": [
      "77"
     ]
    }
   ],
   "source": [
    "#Test\n",
    "df_test.count()"
   ]
  },
  {
   "cell_type": "markdown",
   "metadata": {},
   "source": [
    "### 4. Esquema general de los datos"
   ]
  },
  {
   "cell_type": "code",
   "execution_count": 15,
   "metadata": {},
   "outputs": [
    {
     "data": {
      "application/vnd.jupyter.widget-view+json": {
       "model_id": "654f3b1024a44695badc53f1e515da51",
       "version_major": 2,
       "version_minor": 0
      },
      "text/plain": [
       "VBox()"
      ]
     },
     "metadata": {},
     "output_type": "display_data"
    },
    {
     "data": {
      "application/vnd.jupyter.widget-view+json": {
       "model_id": "",
       "version_major": 2,
       "version_minor": 0
      },
      "text/plain": [
       "FloatProgress(value=0.0, bar_style='info', description='Progress:', layout=Layout(height='25px', width='50%'),…"
      ]
     },
     "metadata": {},
     "output_type": "display_data"
    },
    {
     "name": "stdout",
     "output_type": "stream",
     "text": [
      "root\n",
      " |-- ID de caso: integer (nullable = true)\n",
      " |-- Fecha de notificación: timestamp (nullable = true)\n",
      " |-- Codigo DIVIPOLA: integer (nullable = true)\n",
      " |-- Ciudad de ubicación: string (nullable = true)\n",
      " |-- Departamento o Distrito : string (nullable = true)\n",
      " |-- atención: string (nullable = true)\n",
      " |-- Edad: integer (nullable = true)\n",
      " |-- Sexo: string (nullable = true)\n",
      " |-- Tipo: string (nullable = true)\n",
      " |-- Estado: string (nullable = true)\n",
      " |-- País de procedencia: string (nullable = true)\n",
      " |-- FIS: string (nullable = true)\n",
      " |-- Fecha de muerte: string (nullable = true)\n",
      " |-- Fecha diagnostico: timestamp (nullable = true)\n",
      " |-- Fecha recuperado: string (nullable = true)\n",
      " |-- fecha reporte web: timestamp (nullable = true)"
     ]
    }
   ],
   "source": [
    "#Colombia\n",
    "df_col.printSchema()"
   ]
  },
  {
   "cell_type": "code",
   "execution_count": 16,
   "metadata": {},
   "outputs": [
    {
     "data": {
      "application/vnd.jupyter.widget-view+json": {
       "model_id": "9069164f7ffd42d18c5343db2aeb652a",
       "version_major": 2,
       "version_minor": 0
      },
      "text/plain": [
       "VBox()"
      ]
     },
     "metadata": {},
     "output_type": "display_data"
    },
    {
     "data": {
      "application/vnd.jupyter.widget-view+json": {
       "model_id": "",
       "version_major": 2,
       "version_minor": 0
      },
      "text/plain": [
       "FloatProgress(value=0.0, bar_style='info', description='Progress:', layout=Layout(height='25px', width='50%'),…"
      ]
     },
     "metadata": {},
     "output_type": "display_data"
    },
    {
     "name": "stdout",
     "output_type": "stream",
     "text": [
      "root\n",
      " |-- day: timestamp (nullable = true)\n",
      " |-- Country: string (nullable = true)\n",
      " |-- Country Name: string (nullable = true)\n",
      " |-- Region: string (nullable = true)\n",
      " |-- Deaths: integer (nullable = true)\n",
      " |-- Cumulative Deaths: integer (nullable = true)\n",
      " |-- Confirmed: integer (nullable = true)\n",
      " |-- Cumulative Confirmed: integer (nullable = true)"
     ]
    }
   ],
   "source": [
    "#Global\n",
    "df_glo.printSchema()"
   ]
  },
  {
   "cell_type": "code",
   "execution_count": 17,
   "metadata": {},
   "outputs": [
    {
     "data": {
      "application/vnd.jupyter.widget-view+json": {
       "model_id": "372c55af9c5045778ba0badb7b512831",
       "version_major": 2,
       "version_minor": 0
      },
      "text/plain": [
       "VBox()"
      ]
     },
     "metadata": {},
     "output_type": "display_data"
    },
    {
     "data": {
      "application/vnd.jupyter.widget-view+json": {
       "model_id": "",
       "version_major": 2,
       "version_minor": 0
      },
      "text/plain": [
       "FloatProgress(value=0.0, bar_style='info', description='Progress:', layout=Layout(height='25px', width='50%'),…"
      ]
     },
     "metadata": {},
     "output_type": "display_data"
    },
    {
     "name": "stdout",
     "output_type": "stream",
     "text": [
      "root\n",
      " |-- Entity: string (nullable = true)\n",
      " |-- Code: string (nullable = true)\n",
      " |-- Year: integer (nullable = true)\n",
      " |-- Total COVID-19 tests: integer (nullable = true)"
     ]
    }
   ],
   "source": [
    "#Test\n",
    "df_test.printSchema()"
   ]
  },
  {
   "cell_type": "markdown",
   "metadata": {},
   "source": [
    "### 5. Información de los dataset"
   ]
  },
  {
   "cell_type": "code",
   "execution_count": 18,
   "metadata": {},
   "outputs": [
    {
     "data": {
      "application/vnd.jupyter.widget-view+json": {
       "model_id": "f478a6285c2347718736e6bf07492faa",
       "version_major": 2,
       "version_minor": 0
      },
      "text/plain": [
       "VBox()"
      ]
     },
     "metadata": {},
     "output_type": "display_data"
    },
    {
     "data": {
      "application/vnd.jupyter.widget-view+json": {
       "model_id": "",
       "version_major": 2,
       "version_minor": 0
      },
      "text/plain": [
       "FloatProgress(value=0.0, bar_style='info', description='Progress:', layout=Layout(height='25px', width='50%'),…"
      ]
     },
     "metadata": {},
     "output_type": "display_data"
    },
    {
     "name": "stdout",
     "output_type": "stream",
     "text": [
      "+-------+-----------------+------------------+-------------------+------------------------+----------+-----------------+-----+-----------+------------+-------------------+--------------------+--------------------+--------------------+\n",
      "|summary|       ID de caso|   Codigo DIVIPOLA|Ciudad de ubicación|Departamento o Distrito |  atención|             Edad| Sexo|       Tipo|      Estado|País de procedencia|                 FIS|     Fecha de muerte|    Fecha recuperado|\n",
      "+-------+-----------------+------------------+-------------------+------------------------+----------+-----------------+-----+-----------+------------+-------------------+--------------------+--------------------+--------------------+\n",
      "|  count|            14939|             14939|              14939|                   14939|     14939|            14939|14939|      14939|       14924|              14938|               14939|               14924|               14939|\n",
      "|   mean|7498.275989022023| 31850.04839681371|               null|                    null|      null|39.77521922484772| null|       null|        null|                0.0|                null|                null|                null|\n",
      "| stddev|4327.019210855322|28912.332964134424|               null|                    null|      null|18.77322578309835| null|       null|        null|                NaN|                null|                null|                null|\n",
      "|    min|                1|                25|            Acacías|                Amazonas|      Casa|                0|    F| En Estudio|Asintomático|              -   -|2020-02-27T00:00:...|               -   -|               -   -|\n",
      "|    max|            14979|             97001|             Ábrego|                  Vaupés|Recuperado|              103|    M|Relacionado|        leve|          Venezuela|        Asintomático|2020-05-16T00:00:...|2020-05-16T00:00:...|\n",
      "+-------+-----------------+------------------+-------------------+------------------------+----------+-----------------+-----+-----------+------------+-------------------+--------------------+--------------------+--------------------+"
     ]
    }
   ],
   "source": [
    "#Colombia\n",
    "df_col.describe().show()"
   ]
  },
  {
   "cell_type": "code",
   "execution_count": 19,
   "metadata": {},
   "outputs": [
    {
     "data": {
      "application/vnd.jupyter.widget-view+json": {
       "model_id": "2437794bd4ca4be3acd8c055dafe22ec",
       "version_major": 2,
       "version_minor": 0
      },
      "text/plain": [
       "VBox()"
      ]
     },
     "metadata": {},
     "output_type": "display_data"
    },
    {
     "data": {
      "application/vnd.jupyter.widget-view+json": {
       "model_id": "",
       "version_major": 2,
       "version_minor": 0
      },
      "text/plain": [
       "FloatProgress(value=0.0, bar_style='info', description='Progress:', layout=Layout(height='25px', width='50%'),…"
      ]
     },
     "metadata": {},
     "output_type": "display_data"
    },
    {
     "name": "stdout",
     "output_type": "stream",
     "text": [
      "+-------+-------+--------------------+------+------------------+------------------+-----------------+--------------------+\n",
      "|summary|Country|        Country Name|Region|            Deaths| Cumulative Deaths|        Confirmed|Cumulative Confirmed|\n",
      "+-------+-------+--------------------+------+------------------+------------------+-----------------+--------------------+\n",
      "|  count|  15360|               15462| 15360|             15462|             15462|            15462|               15462|\n",
      "|   mean|   null|                null|  null| 19.54268529297633| 547.0756047083172|  286.80979174751|    8385.80028456862|\n",
      "| stddev|   null|                null|  null|139.11314437519567|3621.0383460929384|1738.877849583212|    53575.6254128046|\n",
      "|    min|     AD|         Afghanistan|  AFRO|             -1696|                 0|            -2461|                   1|\n",
      "|    max|     ZW|occupied Palestin...|  WPRO|              5475|             83819|            38509|             1382362|\n",
      "+-------+-------+--------------------+------+------------------+------------------+-----------------+--------------------+"
     ]
    }
   ],
   "source": [
    "#Global\n",
    "df_glo.describe().show()"
   ]
  },
  {
   "cell_type": "code",
   "execution_count": 20,
   "metadata": {},
   "outputs": [
    {
     "data": {
      "application/vnd.jupyter.widget-view+json": {
       "model_id": "fcd3c1108b4f4b048c7c4afcbf27a050",
       "version_major": 2,
       "version_minor": 0
      },
      "text/plain": [
       "VBox()"
      ]
     },
     "metadata": {},
     "output_type": "display_data"
    },
    {
     "data": {
      "application/vnd.jupyter.widget-view+json": {
       "model_id": "",
       "version_major": 2,
       "version_minor": 0
      },
      "text/plain": [
       "FloatProgress(value=0.0, bar_style='info', description='Progress:', layout=Layout(height='25px', width='50%'),…"
      ]
     },
     "metadata": {},
     "output_type": "display_data"
    },
    {
     "name": "stdout",
     "output_type": "stream",
     "text": [
      "+-------+-------+----+------------------+--------------------+\n",
      "|summary| Entity|Code|              Year|Total COVID-19 tests|\n",
      "+-------+-------+----+------------------+--------------------+\n",
      "|  count|     77|  59|                77|                  77|\n",
      "|   mean|   null|null|56.506493506493506|   30387.96103896104|\n",
      "| stddev|   null|null| 4.229045483393998|   61674.89557827047|\n",
      "|    min|Armenia| ARE|                34|                 222|\n",
      "|    max|Vietnam| ZAF|                59|              320000|\n",
      "+-------+-------+----+------------------+--------------------+"
     ]
    }
   ],
   "source": [
    "#Test\n",
    "df_test.describe().show()"
   ]
  },
  {
   "cell_type": "markdown",
   "metadata": {},
   "source": [
    "### 6. Selección de información"
   ]
  },
  {
   "cell_type": "code",
   "execution_count": 21,
   "metadata": {},
   "outputs": [
    {
     "data": {
      "application/vnd.jupyter.widget-view+json": {
       "model_id": "98fb6ebd89e1486ebc03107063fde2c7",
       "version_major": 2,
       "version_minor": 0
      },
      "text/plain": [
       "VBox()"
      ]
     },
     "metadata": {},
     "output_type": "display_data"
    },
    {
     "data": {
      "application/vnd.jupyter.widget-view+json": {
       "model_id": "",
       "version_major": 2,
       "version_minor": 0
      },
      "text/plain": [
       "FloatProgress(value=0.0, bar_style='info', description='Progress:', layout=Layout(height='25px', width='50%'),…"
      ]
     },
     "metadata": {},
     "output_type": "display_data"
    },
    {
     "name": "stdout",
     "output_type": "stream",
     "text": [
      "+-------------------+----+----+--------------------+\n",
      "|Ciudad de ubicación|Sexo|Edad| País de procedencia|\n",
      "+-------------------+----+----+--------------------+\n",
      "|        Bogotá D.C.|   F|  19|              Italia|\n",
      "|Guadalajara de Buga|   M|  34|              España|\n",
      "|           Medellín|   F|  50|              España|\n",
      "|           Medellín|   M|  55|            Colombia|\n",
      "|           Medellín|   M|  25|            Colombia|\n",
      "|             Itagüí|   F|  27|            Colombia|\n",
      "|Cartagena de Indias|   F|  85|Estados Unidos de...|\n",
      "|        Bogotá D.C.|   F|  22|              España|\n",
      "|        Bogotá D.C.|   F|  28|              España|\n",
      "|        Bogotá D.C.|   F|  36|              España|\n",
      "|        Bogotá D.C.|   F|  42|              España|\n",
      "|              Neiva|   F|  74|              Italia|\n",
      "|              Neiva|   F|  68|            Colombia|\n",
      "|            Palmira|   M|  48|              España|\n",
      "|      Villavicencio|   F|  30|              España|\n",
      "|        Bogotá D.C.|   F|  61|              Italia|\n",
      "|        Bogotá D.C.|   F|  73|              España|\n",
      "|        Bogotá D.C.|   M|  54|              España|\n",
      "|        Bogotá D.C.|   F|  54|            Colombia|\n",
      "|           Medellín|   F|  26|            Colombia|\n",
      "+-------------------+----+----+--------------------+\n",
      "only showing top 20 rows"
     ]
    }
   ],
   "source": [
    "# Colombia\n",
    "df_col.select('Ciudad de ubicación','Sexo', 'Edad', 'País de procedencia').show(20)"
   ]
  },
  {
   "cell_type": "code",
   "execution_count": 22,
   "metadata": {},
   "outputs": [
    {
     "data": {
      "application/vnd.jupyter.widget-view+json": {
       "model_id": "774394640e3541fabbb0e03fb1ecb832",
       "version_major": 2,
       "version_minor": 0
      },
      "text/plain": [
       "VBox()"
      ]
     },
     "metadata": {},
     "output_type": "display_data"
    },
    {
     "data": {
      "application/vnd.jupyter.widget-view+json": {
       "model_id": "",
       "version_major": 2,
       "version_minor": 0
      },
      "text/plain": [
       "FloatProgress(value=0.0, bar_style='info', description='Progress:', layout=Layout(height='25px', width='50%'),…"
      ]
     },
     "metadata": {},
     "output_type": "display_data"
    },
    {
     "name": "stdout",
     "output_type": "stream",
     "text": [
      "+-------------------+------------+-----------------+--------------------+\n",
      "|                day|Country Name|Cumulative Deaths|Cumulative Confirmed|\n",
      "+-------------------+------------+-----------------+--------------------+\n",
      "|2020-02-24 00:00:00| Afghanistan|                0|                   1|\n",
      "|2020-02-25 00:00:00| Afghanistan|                0|                   1|\n",
      "|2020-02-26 00:00:00| Afghanistan|                0|                   1|\n",
      "|2020-02-27 00:00:00| Afghanistan|                0|                   1|\n",
      "|2020-02-28 00:00:00| Afghanistan|                0|                   1|\n",
      "|2020-02-29 00:00:00| Afghanistan|                0|                   1|\n",
      "|2020-03-01 00:00:00| Afghanistan|                0|                   1|\n",
      "|2020-03-02 00:00:00| Afghanistan|                0|                   1|\n",
      "|2020-03-03 00:00:00| Afghanistan|                0|                   1|\n",
      "|2020-03-04 00:00:00| Afghanistan|                0|                   1|\n",
      "|2020-03-05 00:00:00| Afghanistan|                0|                   1|\n",
      "|2020-03-06 00:00:00| Afghanistan|                0|                   1|\n",
      "|2020-03-07 00:00:00| Afghanistan|                0|                   4|\n",
      "|2020-03-08 00:00:00| Afghanistan|                0|                   4|\n",
      "|2020-03-09 00:00:00| Afghanistan|                0|                   4|\n",
      "|2020-03-10 00:00:00| Afghanistan|                0|                   4|\n",
      "|2020-03-11 00:00:00| Afghanistan|                0|                   7|\n",
      "|2020-03-12 00:00:00| Afghanistan|                0|                   7|\n",
      "|2020-03-13 00:00:00| Afghanistan|                0|                   7|\n",
      "|2020-03-14 00:00:00| Afghanistan|                0|                  10|\n",
      "+-------------------+------------+-----------------+--------------------+\n",
      "only showing top 20 rows"
     ]
    }
   ],
   "source": [
    "# Global\n",
    "df_glo.select('day','Country Name', 'Cumulative Deaths', 'Cumulative Confirmed').show(20)"
   ]
  },
  {
   "cell_type": "code",
   "execution_count": 23,
   "metadata": {},
   "outputs": [
    {
     "data": {
      "application/vnd.jupyter.widget-view+json": {
       "model_id": "c0b33573704546769a251c8a98e0673f",
       "version_major": 2,
       "version_minor": 0
      },
      "text/plain": [
       "VBox()"
      ]
     },
     "metadata": {},
     "output_type": "display_data"
    },
    {
     "data": {
      "application/vnd.jupyter.widget-view+json": {
       "model_id": "",
       "version_major": 2,
       "version_minor": 0
      },
      "text/plain": [
       "FloatProgress(value=0.0, bar_style='info', description='Progress:', layout=Layout(height='25px', width='50%'),…"
      ]
     },
     "metadata": {},
     "output_type": "display_data"
    },
    {
     "name": "stdout",
     "output_type": "stream",
     "text": [
      "+--------------------+--------------------+\n",
      "|              Entity|Total COVID-19 tests|\n",
      "+--------------------+--------------------+\n",
      "|             Armenia|                 813|\n",
      "|           Australia|              113615|\n",
      "|Australia - Austr...|                2062|\n",
      "|Australia - New S...|               39089|\n",
      "|Australia - Queen...|               27000|\n",
      "|Australia - South...|               16717|\n",
      "|Australia - Tasmania|                 807|\n",
      "|Australia - Victoria|               19337|\n",
      "|Australia - Weste...|                8603|\n",
      "|             Austria|               15613|\n",
      "|             Bahrain|               18645|\n",
      "|             Belarus|               16000|\n",
      "|             Belgium|               18360|\n",
      "|              Brazil|                2927|\n",
      "|    Canada - Alberta|               17013|\n",
      "|Canada - British ...|                6326|\n",
      "|Canada - National...|               54956|\n",
      "|Canada - New Brun...|                 520|\n",
      "|Canada - Northwes...|                 222|\n",
      "|Canada - Nova Scotia|                1561|\n",
      "+--------------------+--------------------+\n",
      "only showing top 20 rows"
     ]
    }
   ],
   "source": [
    "# Global\n",
    "df_test.select('Entity', 'Total COVID-19 tests').show(20)"
   ]
  },
  {
   "cell_type": "code",
   "execution_count": 24,
   "metadata": {},
   "outputs": [
    {
     "data": {
      "application/vnd.jupyter.widget-view+json": {
       "model_id": "747da23cd96d4b8b8a69ca295dfb1da3",
       "version_major": 2,
       "version_minor": 0
      },
      "text/plain": [
       "VBox()"
      ]
     },
     "metadata": {},
     "output_type": "display_data"
    },
    {
     "data": {
      "application/vnd.jupyter.widget-view+json": {
       "model_id": "",
       "version_major": 2,
       "version_minor": 0
      },
      "text/plain": [
       "FloatProgress(value=0.0, bar_style='info', description='Progress:', layout=Layout(height='25px', width='50%'),…"
      ]
     },
     "metadata": {},
     "output_type": "display_data"
    }
   ],
   "source": [
    "df_col2 = df_col.drop('País de procedencia','Codigo DIVIPOLA', 'ID de caso', 'FIS', 'Departamento o Distrito', 'fecha reporte web')"
   ]
  },
  {
   "cell_type": "code",
   "execution_count": 25,
   "metadata": {},
   "outputs": [
    {
     "data": {
      "application/vnd.jupyter.widget-view+json": {
       "model_id": "02faf5a60102424cbfb1943db09a2376",
       "version_major": 2,
       "version_minor": 0
      },
      "text/plain": [
       "VBox()"
      ]
     },
     "metadata": {},
     "output_type": "display_data"
    },
    {
     "data": {
      "application/vnd.jupyter.widget-view+json": {
       "model_id": "",
       "version_major": 2,
       "version_minor": 0
      },
      "text/plain": [
       "FloatProgress(value=0.0, bar_style='info', description='Progress:', layout=Layout(height='25px', width='50%'),…"
      ]
     },
     "metadata": {},
     "output_type": "display_data"
    },
    {
     "name": "stdout",
     "output_type": "stream",
     "text": [
      "+---------------------+-------------------+------------------------+----------+----+----+-----------+------+---------------+-------------------+--------------------+-----------------------------------+\n",
      "|Fecha de notificación|Ciudad de ubicación|Departamento o Distrito |  atención|Edad|Sexo|       Tipo|Estado|Fecha de muerte|  Fecha diagnostico|    Fecha recuperado|Dias desde que se descubrio el caso|\n",
      "+---------------------+-------------------+------------------------+----------+----+----+-----------+------+---------------+-------------------+--------------------+-----------------------------------+\n",
      "|  2020-03-02 00:00:00|        Bogotá D.C.|             Bogotá D.C.|Recuperado|  19|   F|  Importado|  Leve|          -   -|2020-03-06 00:00:00|2020-03-13T00:00:...|                                 72|\n",
      "|  2020-03-06 00:00:00|Guadalajara de Buga|         Valle del Cauca|Recuperado|  34|   M|  Importado|  Leve|          -   -|2020-03-09 00:00:00|2020-03-19T00:00:...|                                 69|\n",
      "|  2020-03-07 00:00:00|           Medellín|               Antioquia|Recuperado|  50|   F|  Importado|  Leve|          -   -|2020-03-09 00:00:00|2020-03-15T00:00:...|                                 69|\n",
      "|  2020-03-09 00:00:00|           Medellín|               Antioquia|Recuperado|  55|   M|Relacionado|  Leve|          -   -|2020-03-11 00:00:00|2020-03-26T00:00:...|                                 67|\n",
      "|  2020-03-09 00:00:00|           Medellín|               Antioquia|Recuperado|  25|   M|Relacionado|  Leve|          -   -|2020-03-11 00:00:00|2020-03-23T00:00:...|                                 67|\n",
      "|  2020-03-10 00:00:00|             Itagüí|               Antioquia|Recuperado|  27|   F|Relacionado|  Leve|          -   -|2020-03-11 00:00:00|2020-03-26T00:00:...|                                 67|\n",
      "|  2020-03-08 00:00:00|Cartagena de Indias|     Cartagena D.T. y C.|Recuperado|  85|   F|  Importado|  Leve|          -   -|2020-03-11 00:00:00|2020-03-17T00:00:...|                                 67|\n",
      "|  2020-03-09 00:00:00|        Bogotá D.C.|             Bogotá D.C.|Recuperado|  22|   F|  Importado|  Leve|          -   -|2020-03-11 00:00:00|2020-03-21T00:00:...|                                 67|\n",
      "|  2020-03-08 00:00:00|        Bogotá D.C.|             Bogotá D.C.|Recuperado|  28|   F|  Importado|  Leve|          -   -|2020-03-11 00:00:00|2020-03-23T00:00:...|                                 67|\n",
      "|  2020-03-12 00:00:00|        Bogotá D.C.|             Bogotá D.C.|Recuperado|  36|   F|  Importado|  Leve|          -   -|2020-03-12 00:00:00|2020-03-21T00:00:...|                                 66|\n",
      "|  2020-03-11 00:00:00|        Bogotá D.C.|             Bogotá D.C.|Recuperado|  42|   F|  Importado|  Leve|          -   -|2020-03-12 00:00:00|2020-03-31T00:00:...|                                 66|\n",
      "|  2020-03-10 00:00:00|              Neiva|                   Huila|Recuperado|  74|   F|  Importado|  Leve|          -   -|2020-03-12 00:00:00|2020-04-09T00:00:...|                                 66|\n",
      "|  2020-03-10 00:00:00|              Neiva|                   Huila|Recuperado|  68|   F|Relacionado|  Leve|          -   -|2020-03-12 00:00:00|2020-03-30T00:00:...|                                 66|\n",
      "|  2020-03-10 00:00:00|            Palmira|         Valle del Cauca|Recuperado|  48|   M|  Importado|  Leve|          -   -|2020-03-13 00:00:00|2020-03-21T00:00:...|                                 65|\n",
      "|  2020-03-13 00:00:00|      Villavicencio|                    Meta|Recuperado|  30|   F|  Importado|  Leve|          -   -|2020-03-13 00:00:00|2020-03-23T00:00:...|                                 65|\n",
      "|  2020-03-11 00:00:00|        Bogotá D.C.|             Bogotá D.C.|Recuperado|  61|   F|  Importado|  Leve|          -   -|2020-03-13 00:00:00|2020-03-23T00:00:...|                                 65|\n",
      "|  2020-03-11 00:00:00|        Bogotá D.C.|             Bogotá D.C.|Recuperado|  73|   F|  Importado|  Leve|          -   -|2020-03-14 00:00:00|2020-03-14T00:00:...|                                 64|\n",
      "|  2020-03-11 00:00:00|        Bogotá D.C.|             Bogotá D.C.|Recuperado|  54|   M|  Importado|  Leve|          -   -|2020-03-14 00:00:00|2020-04-07T00:00:...|                                 64|\n",
      "|  2020-03-12 00:00:00|        Bogotá D.C.|             Bogotá D.C.|Recuperado|  54|   F|Relacionado|  Leve|          -   -|2020-03-14 00:00:00|2020-03-24T00:00:...|                                 64|\n",
      "|  2020-03-11 00:00:00|           Medellín|               Antioquia|Recuperado|  26|   F|Relacionado|  Leve|          -   -|2020-03-14 00:00:00|2020-03-24T00:00:...|                                 64|\n",
      "+---------------------+-------------------+------------------------+----------+----+----+-----------+------+---------------+-------------------+--------------------+-----------------------------------+\n",
      "only showing top 20 rows"
     ]
    }
   ],
   "source": [
    "#Columna con el dato de cuantos días han pasado desde que se descubrió el caso\n",
    "df_col2.withColumn(\"Dias desde que se descubrio el caso\", \n",
    "              datediff(to_date(lit(\"2020-05-17\")),\n",
    "                       to_date(unix_timestamp('Fecha diagnostico', \"yyyy/MM/dd\").cast(\"timestamp\")))).show()"
   ]
  },
  {
   "cell_type": "code",
   "execution_count": 26,
   "metadata": {},
   "outputs": [
    {
     "data": {
      "application/vnd.jupyter.widget-view+json": {
       "model_id": "d9f7259a15334bf7a2f97890e51ca9ed",
       "version_major": 2,
       "version_minor": 0
      },
      "text/plain": [
       "VBox()"
      ]
     },
     "metadata": {},
     "output_type": "display_data"
    },
    {
     "data": {
      "application/vnd.jupyter.widget-view+json": {
       "model_id": "",
       "version_major": 2,
       "version_minor": 0
      },
      "text/plain": [
       "FloatProgress(value=0.0, bar_style='info', description='Progress:', layout=Layout(height='25px', width='50%'),…"
      ]
     },
     "metadata": {},
     "output_type": "display_data"
    },
    {
     "name": "stdout",
     "output_type": "stream",
     "text": [
      "+----------+---------------------+---------------+-------------------+------------------------+----------+----+----+-----------+------------+--------------------+--------------------+--------------------+-------------------+--------------------+-------------------+\n",
      "|ID de caso|Fecha de notificación|Codigo DIVIPOLA|Ciudad de ubicación|Departamento o Distrito |  atención|Edad|Sexo|       Tipo|      Estado| País de procedencia|                 FIS|     Fecha de muerte|  Fecha diagnostico|    Fecha recuperado|  fecha reporte web|\n",
      "+----------+---------------------+---------------+-------------------+------------------------+----------+----+----+-----------+------------+--------------------+--------------------+--------------------+-------------------+--------------------+-------------------+\n",
      "|         7|  2020-03-08 00:00:00|          13001|Cartagena de Indias|     Cartagena D.T. y C.|Recuperado|  85|   F|  Importado|        Leve|Estados Unidos de...|2020-03-02T00:00:...|               -   -|2020-03-11 00:00:00|2020-03-17T00:00:...|2020-03-11 00:00:00|\n",
      "|        12|  2020-03-10 00:00:00|          41001|              Neiva|                   Huila|Recuperado|  74|   F|  Importado|        Leve|              Italia|2020-03-06T00:00:...|               -   -|2020-03-12 00:00:00|2020-04-09T00:00:...|2020-03-12 00:00:00|\n",
      "|        13|  2020-03-10 00:00:00|          41001|              Neiva|                   Huila|Recuperado|  68|   F|Relacionado|        Leve|            Colombia|2020-03-06T00:00:...|               -   -|2020-03-12 00:00:00|2020-03-30T00:00:...|2020-03-12 00:00:00|\n",
      "|        16|  2020-03-11 00:00:00|          11001|        Bogotá D.C.|             Bogotá D.C.|Recuperado|  61|   F|  Importado|        Leve|              Italia|2020-03-08T00:00:...|               -   -|2020-03-13 00:00:00|2020-03-23T00:00:...|2020-03-13 00:00:00|\n",
      "|        17|  2020-03-11 00:00:00|          11001|        Bogotá D.C.|             Bogotá D.C.|Recuperado|  73|   F|  Importado|        Leve|              España|2020-02-28T00:00:...|               -   -|2020-03-14 00:00:00|2020-03-14T00:00:...|2020-03-14 00:00:00|\n",
      "|        31|  2020-03-12 00:00:00|          17001|          Manizales|                  Caldas|Recuperado|  65|   M|  Importado|        Leve|Estados Unidos de...|2020-03-12T00:00:...|               -   -|2020-03-13 00:00:00|2020-03-26T00:00:...|2020-03-13 00:00:00|\n",
      "|        36|  2020-03-13 00:00:00|          11001|        Bogotá D.C.|             Bogotá D.C.|Recuperado|  72|   M|  Importado|        Leve|Estados Unidos de...|2020-03-12T00:00:...|               -   -|2020-03-14 00:00:00|2020-03-27T00:00:...|2020-03-14 00:00:00|\n",
      "|        41|  2020-03-14 00:00:00|          41001|              Neiva|                   Huila|Recuperado|  79|   M|Relacionado|Asintomático|            Colombia|        Asintomático|               -   -|2020-03-14 00:00:00|2020-03-28T00:00:...|2020-03-14 00:00:00|\n",
      "|        43|  2020-03-14 00:00:00|          41001|              Neiva|                   Huila|Recuperado|  71|   M|Relacionado|        Leve|            Colombia|2020-03-09T00:00:...|               -   -|2020-03-14 00:00:00|2020-03-24T00:00:...|2020-03-14 00:00:00|\n",
      "|        50|  2020-03-14 00:00:00|          11001|        Bogotá D.C.|             Bogotá D.C.|Recuperado|  67|   F|  Importado|        Leve|              España|2020-03-08T00:00:...|               -   -|2020-03-15 00:00:00|2020-03-23T00:00:...|2020-03-15 00:00:00|\n",
      "|        53|  2020-03-14 00:00:00|          11001|        Bogotá D.C.|             Bogotá D.C.|Recuperado|  62|   M|  Importado|        Leve|              España|2020-03-12T00:00:...|               -   -|2020-03-15 00:00:00|2020-03-27T00:00:...|2020-03-15 00:00:00|\n",
      "|        65|  2020-03-16 00:00:00|          11001|        Bogotá D.C.|             Bogotá D.C.|Recuperado|  64|   M|Relacionado|        Leve|            Colombia|2020-03-15T00:00:...|               -   -|2020-03-16 00:00:00|2020-04-01T00:00:...|2020-03-16 00:00:00|\n",
      "|        68|  2020-03-16 00:00:00|          11001|        Bogotá D.C.|             Bogotá D.C.|Recuperado|  72|   M|  Importado|        Leve|              España|2020-03-12T00:00:...|               -   -|2020-03-17 00:00:00|2020-04-12T00:00:...|2020-03-17 00:00:00|\n",
      "|        95|  2020-03-17 00:00:00|          11001|        Bogotá D.C.|             Bogotá D.C.|Recuperado|  69|   M|  Importado|        Leve|             Turquía|2020-03-16T00:00:...|               -   -|2020-03-18 00:00:00|2020-03-28T00:00:...|2020-03-18 00:00:00|\n",
      "|       102|  2020-03-16 00:00:00|          66001|            Pereira|               Risaralda|Recuperado|  79|   M|  Importado|        Leve|              España|2020-03-09T00:00:...|               -   -|2020-03-18 00:00:00|2020-03-24T00:00:...|2020-03-18 00:00:00|\n",
      "|       110|  2020-03-17 00:00:00|          11001|        Bogotá D.C.|             Bogotá D.C.|Recuperado|  62|   F|  Importado|        Leve|Estados Unidos de...|2020-03-13T00:00:...|               -   -|2020-03-19 00:00:00|2020-04-12T00:00:...|2020-03-19 00:00:00|\n",
      "|       121|  2020-03-17 00:00:00|          19001|            Popayán|                   Cauca|Recuperado|  61|   M|  Importado|        Leve|              España|2020-03-15T00:00:...|               -   -|2020-03-19 00:00:00|2020-03-29T00:00:...|2020-03-19 00:00:00|\n",
      "|       124|  2020-03-16 00:00:00|          41001|              Neiva|                   Huila|Recuperado|  76|   F|Relacionado|        Leve|            Colombia|2020-03-08T00:00:...|               -   -|2020-03-19 00:00:00|2020-04-04T00:00:...|2020-03-19 00:00:00|\n",
      "|       141|  2020-03-17 00:00:00|           5001|           Medellín|               Antioquia|Recuperado|  62|   F|  Importado|        Leve|             Croacia|2020-03-10T00:00:...|               -   -|2020-03-20 00:00:00|2020-03-25T00:00:...|2020-03-20 00:00:00|\n",
      "|       152|  2020-03-18 00:00:00|          11001|        Bogotá D.C.|             Bogotá D.C.| Fallecido|  65|   M|  Importado|   Fallecido|Estados Unidos de...|2020-03-10T00:00:...|2020-04-05T00:00:...|2020-03-20 00:00:00|               -   -|2020-03-20 00:00:00|\n",
      "+----------+---------------------+---------------+-------------------+------------------------+----------+----+----+-----------+------------+--------------------+--------------------+--------------------+-------------------+--------------------+-------------------+\n",
      "only showing top 20 rows"
     ]
    }
   ],
   "source": [
    "#Personas mayores de 60 (Mayor riesgo )\n",
    "df_col.filter(df_col['edad'] > 60).show()"
   ]
  },
  {
   "cell_type": "markdown",
   "metadata": {},
   "source": [
    "### Países más afectados"
   ]
  },
  {
   "cell_type": "code",
   "execution_count": 27,
   "metadata": {},
   "outputs": [
    {
     "data": {
      "application/vnd.jupyter.widget-view+json": {
       "model_id": "68c0648ffbd545a9930918030d9b2f42",
       "version_major": 2,
       "version_minor": 0
      },
      "text/plain": [
       "VBox()"
      ]
     },
     "metadata": {},
     "output_type": "display_data"
    },
    {
     "data": {
      "application/vnd.jupyter.widget-view+json": {
       "model_id": "",
       "version_major": 2,
       "version_minor": 0
      },
      "text/plain": [
       "FloatProgress(value=0.0, bar_style='info', description='Progress:', layout=Layout(height='25px', width='50%'),…"
      ]
     },
     "metadata": {},
     "output_type": "display_data"
    },
    {
     "name": "stdout",
     "output_type": "stream",
     "text": [
      "+--------------------------+-----------------+-----+\n",
      "|Country Name              |Cumulative Deaths|count|\n",
      "+--------------------------+-----------------+-----+\n",
      "|United States of America  |75364            |1    |\n",
      "|The United Kingdom        |31587            |1    |\n",
      "|Italy                     |30395            |1    |\n",
      "|Spain                     |26478            |1    |\n",
      "|France                    |26268            |1    |\n",
      "|Brazil                    |9897             |1    |\n",
      "|Belgium                   |8581             |1    |\n",
      "|Germany                   |7395             |1    |\n",
      "|Iran (Islamic Republic of)|6640             |1    |\n",
      "|Netherlands               |5422             |1    |\n",
      "|China                     |4643             |1    |\n",
      "|Canada                    |4628             |1    |\n",
      "|Turkey                    |3739             |1    |\n",
      "|Sweden                    |3220             |1    |\n",
      "|Mexico                    |3160             |1    |\n",
      "|India                     |2109             |1    |\n",
      "|Russian Federation        |1915             |1    |\n",
      "|Peru                      |1714             |1    |\n",
      "|Ecuador                   |1704             |1    |\n",
      "|Switzerland               |1531             |1    |\n",
      "+--------------------------+-----------------+-----+\n",
      "only showing top 20 rows"
     ]
    }
   ],
   "source": [
    "#Paises con mayor número de muertes\n",
    "df_glo.filter(df_glo['day'] == \"2020-05-10\").groupBy('Country Name', 'Cumulative Deaths').count().orderBy('Cumulative Deaths',ascending=False).show(20,False)"
   ]
  },
  {
   "cell_type": "code",
   "execution_count": 28,
   "metadata": {},
   "outputs": [
    {
     "data": {
      "application/vnd.jupyter.widget-view+json": {
       "model_id": "d8631b39e74d415c91617684f96f20ab",
       "version_major": 2,
       "version_minor": 0
      },
      "text/plain": [
       "VBox()"
      ]
     },
     "metadata": {},
     "output_type": "display_data"
    },
    {
     "data": {
      "application/vnd.jupyter.widget-view+json": {
       "model_id": "",
       "version_major": 2,
       "version_minor": 0
      },
      "text/plain": [
       "FloatProgress(value=0.0, bar_style='info', description='Progress:', layout=Layout(height='25px', width='50%'),…"
      ]
     },
     "metadata": {},
     "output_type": "display_data"
    },
    {
     "name": "stdout",
     "output_type": "stream",
     "text": [
      "+--------------------------+--------------------+-----+\n",
      "|Country Name              |Cumulative Confirmed|count|\n",
      "+--------------------------+--------------------+-----+\n",
      "|United States of America  |1245775             |1    |\n",
      "|Spain                     |223578              |1    |\n",
      "|Italy                     |218268              |1    |\n",
      "|The United Kingdom        |215264              |1    |\n",
      "|Russian Federation        |209688              |1    |\n",
      "|Germany                   |169218              |1    |\n",
      "|Brazil                    |145328              |1    |\n",
      "|Turkey                    |137115              |1    |\n",
      "|France                    |137008              |1    |\n",
      "|Iran (Islamic Republic of)|107603              |1    |\n",
      "|China                     |84430               |1    |\n",
      "|Canada                    |66780               |1    |\n",
      "|India                     |62939               |1    |\n",
      "|Peru                      |61847               |1    |\n",
      "|Belgium                   |52596               |1    |\n",
      "|Netherlands               |42382               |1    |\n",
      "|Saudi Arabia              |39048               |1    |\n",
      "|Mexico                    |31522               |1    |\n",
      "|Switzerland               |30168               |1    |\n",
      "|Pakistan                  |29465               |1    |\n",
      "+--------------------------+--------------------+-----+\n",
      "only showing top 20 rows"
     ]
    }
   ],
   "source": [
    "#Paises con mayor número de contagios\n",
    "df_glo.filter(df_glo['day'] == \"2020-05-10\").groupBy('Country Name', 'Cumulative Confirmed').count().orderBy('Cumulative Confirmed',ascending=False).show(20,False)"
   ]
  },
  {
   "cell_type": "code",
   "execution_count": 29,
   "metadata": {},
   "outputs": [
    {
     "data": {
      "application/vnd.jupyter.widget-view+json": {
       "model_id": "141fd259480341aaa5c0fc7f8422bd4a",
       "version_major": 2,
       "version_minor": 0
      },
      "text/plain": [
       "VBox()"
      ]
     },
     "metadata": {},
     "output_type": "display_data"
    },
    {
     "data": {
      "application/vnd.jupyter.widget-view+json": {
       "model_id": "",
       "version_major": 2,
       "version_minor": 0
      },
      "text/plain": [
       "FloatProgress(value=0.0, bar_style='info', description='Progress:', layout=Layout(height='25px', width='50%'),…"
      ]
     },
     "metadata": {},
     "output_type": "display_data"
    },
    {
     "name": "stdout",
     "output_type": "stream",
     "text": [
      "+-------------------+-------+--------------------+------+------+-----------------+---------+--------------------+\n",
      "|                day|Country|        Country Name|Region|Deaths|Cumulative Deaths|Confirmed|Cumulative Confirmed|\n",
      "+-------------------+-------+--------------------+------+------+-----------------+---------+--------------------+\n",
      "|2020-05-10 00:00:00|     BE|             Belgium|  EURO|    60|             8581|      585|               52596|\n",
      "|2020-05-10 00:00:00|     BR|              Brazil|  AMRO|   751|             9897|    10222|              145328|\n",
      "|2020-05-10 00:00:00|     CA|              Canada|  AMRO|   157|             4628|     1381|               66780|\n",
      "|2020-05-10 00:00:00|     CN|               China|  WPRO|     0|             4643|       14|               84430|\n",
      "|2020-05-10 00:00:00|     FR|              France|  EURO|    80|            26268|      430|              137008|\n",
      "|2020-05-10 00:00:00|     DE|             Germany|  EURO|    26|             7395|      667|              169218|\n",
      "|2020-05-10 00:00:00|     IN|               India| SEARO|   128|             2109|     3277|               62939|\n",
      "|2020-05-10 00:00:00|     IR|Iran (Islamic Rep...|  EMRO|    51|             6640|     1383|              107603|\n",
      "|2020-05-10 00:00:00|     IT|               Italy|  EURO|   194|            30395|     1083|              218268|\n",
      "|2020-05-10 00:00:00|     PE|                Peru|  AMRO|    87|             1714|     3321|               61847|\n",
      "|2020-05-10 00:00:00|     RU|  Russian Federation|  EURO|    88|             1915|    11012|              209688|\n",
      "|2020-05-10 00:00:00|     ES|               Spain|  EURO|   227|            26478|      721|              223578|\n",
      "|2020-05-10 00:00:00|     GB|  The United Kingdom|  EURO|   346|            31587|     3896|              215264|\n",
      "|2020-05-10 00:00:00|     TR|              Turkey|  EURO|    50|             3739|     1546|              137115|\n",
      "|2020-05-10 00:00:00|     US|United States of ...|  AMRO|  5475|            75364|      -99|             1245775|\n",
      "+-------------------+-------+--------------------+------+------+-----------------+---------+--------------------+"
     ]
    }
   ],
   "source": [
    "#Paises que superaron los 50000 casos positivos al día 10 de mayo\n",
    "df_glo.filter(df_glo['Cumulative Confirmed'] > 50000).filter(df_glo['day'] == \"2020-05-10\").show()"
   ]
  },
  {
   "cell_type": "code",
   "execution_count": 30,
   "metadata": {},
   "outputs": [
    {
     "data": {
      "application/vnd.jupyter.widget-view+json": {
       "model_id": "429f6d9ee3f34c5ba3a961a9eabba629",
       "version_major": 2,
       "version_minor": 0
      },
      "text/plain": [
       "VBox()"
      ]
     },
     "metadata": {},
     "output_type": "display_data"
    },
    {
     "data": {
      "application/vnd.jupyter.widget-view+json": {
       "model_id": "",
       "version_major": 2,
       "version_minor": 0
      },
      "text/plain": [
       "FloatProgress(value=0.0, bar_style='info', description='Progress:', layout=Layout(height='25px', width='50%'),…"
      ]
     },
     "metadata": {},
     "output_type": "display_data"
    },
    {
     "name": "stdout",
     "output_type": "stream",
     "text": [
      "+-------------------+-------+--------------------+------+------+-----------------+---------+--------------------+\n",
      "|                day|Country|        Country Name|Region|Deaths|Cumulative Deaths|Confirmed|Cumulative Confirmed|\n",
      "+-------------------+-------+--------------------+------+------+-----------------+---------+--------------------+\n",
      "|2020-05-10 00:00:00|     FR|              France|  EURO|    80|            26268|      430|              137008|\n",
      "|2020-05-10 00:00:00|     IT|               Italy|  EURO|   194|            30395|     1083|              218268|\n",
      "|2020-05-10 00:00:00|     ES|               Spain|  EURO|   227|            26478|      721|              223578|\n",
      "|2020-05-10 00:00:00|     GB|  The United Kingdom|  EURO|   346|            31587|     3896|              215264|\n",
      "|2020-05-10 00:00:00|     US|United States of ...|  AMRO|  5475|            75364|      -99|             1245775|\n",
      "+-------------------+-------+--------------------+------+------+-----------------+---------+--------------------+"
     ]
    }
   ],
   "source": [
    "#Paises que superaron las 10000 muertes al día 10 de mayo\n",
    "df_glo.filter(df_glo['Cumulative Deaths'] > 10000).filter(df_glo['day'] == \"2020-05-10\").show()"
   ]
  },
  {
   "cell_type": "markdown",
   "metadata": {},
   "source": [
    "### Ciudades más afectadas en Colombia"
   ]
  },
  {
   "cell_type": "code",
   "execution_count": 31,
   "metadata": {},
   "outputs": [
    {
     "data": {
      "application/vnd.jupyter.widget-view+json": {
       "model_id": "5bf0aa5d86424400943b0a0b367601b7",
       "version_major": 2,
       "version_minor": 0
      },
      "text/plain": [
       "VBox()"
      ]
     },
     "metadata": {},
     "output_type": "display_data"
    },
    {
     "data": {
      "application/vnd.jupyter.widget-view+json": {
       "model_id": "",
       "version_major": 2,
       "version_minor": 0
      },
      "text/plain": [
       "FloatProgress(value=0.0, bar_style='info', description='Progress:', layout=Layout(height='25px', width='50%'),…"
      ]
     },
     "metadata": {},
     "output_type": "display_data"
    },
    {
     "name": "stdout",
     "output_type": "stream",
     "text": [
      "+--------------------+-----+\n",
      "|Ciudad de ubicación |count|\n",
      "+--------------------+-----+\n",
      "|Bogotá D.C.         |5283 |\n",
      "|Cali                |1343 |\n",
      "|Cartagena de Indias |1197 |\n",
      "|Leticia             |1003 |\n",
      "|Villavicencio       |915  |\n",
      "|Barranquilla        |812  |\n",
      "|Soledad             |446  |\n",
      "|Medellín            |342  |\n",
      "|San Andrés de Tumaco|281  |\n",
      "|Santa Marta         |245  |\n",
      "|Pereira             |165  |\n",
      "|Ibagué              |139  |\n",
      "|Neiva               |122  |\n",
      "|Soacha              |118  |\n",
      "|Malambo             |109  |\n",
      "|Ipiales             |107  |\n",
      "|Buenaventura        |95   |\n",
      "|Cúcuta              |84   |\n",
      "|Ciénaga             |70   |\n",
      "|Pasto               |69   |\n",
      "+--------------------+-----+\n",
      "only showing top 20 rows"
     ]
    }
   ],
   "source": [
    "#Agrupamiento por mayor cantidad de casos en ciudades \n",
    "df_col.groupBy('Ciudad de ubicación').count().orderBy('count',ascending=False).show(20,False)"
   ]
  },
  {
   "cell_type": "markdown",
   "metadata": {},
   "source": [
    "## Top 20 países con mayor cantidad de test realizados"
   ]
  },
  {
   "cell_type": "code",
   "execution_count": 32,
   "metadata": {},
   "outputs": [
    {
     "data": {
      "application/vnd.jupyter.widget-view+json": {
       "model_id": "69987a0ceabc47c79dc1e76da7df8835",
       "version_major": 2,
       "version_minor": 0
      },
      "text/plain": [
       "VBox()"
      ]
     },
     "metadata": {},
     "output_type": "display_data"
    },
    {
     "data": {
      "application/vnd.jupyter.widget-view+json": {
       "model_id": "",
       "version_major": 2,
       "version_minor": 0
      },
      "text/plain": [
       "FloatProgress(value=0.0, bar_style='info', description='Progress:', layout=Layout(height='25px', width='50%'),…"
      ]
     },
     "metadata": {},
     "output_type": "display_data"
    },
    {
     "name": "stdout",
     "output_type": "stream",
     "text": [
      "+----------------------------------+--------------------+-----+\n",
      "|Entity                            |Total COVID-19 tests|count|\n",
      "+----------------------------------+--------------------+-----+\n",
      "|China - Guangdong                 |320000              |1    |\n",
      "|South Korea                       |316664              |1    |\n",
      "|Italy                             |206886              |1    |\n",
      "|Germany                           |167000              |1    |\n",
      "|Russia                            |143519              |1    |\n",
      "|United Arab Emirates              |125000              |1    |\n",
      "|Australia                         |113615              |1    |\n",
      "|United States                     |103945              |1    |\n",
      "|Iran                              |80000               |1    |\n",
      "|United Kingdom                    |64621               |1    |\n",
      "|Canada - National lab             |54956               |1    |\n",
      "|Norway                            |43735               |1    |\n",
      "|Australia - New South Wales       |39089               |1    |\n",
      "|United States - CDC samples tested|37646               |1    |\n",
      "|France                            |36747               |1    |\n",
      "|Spain                             |30000               |1    |\n",
      "|Australia - Queensland            |27000               |1    |\n",
      "|Taiwan                            |21376               |1    |\n",
      "|Canada - Ontario                  |19511               |1    |\n",
      "|Australia - Victoria              |19337               |1    |\n",
      "+----------------------------------+--------------------+-----+\n",
      "only showing top 20 rows"
     ]
    }
   ],
   "source": [
    "df_test.groupBy('Entity', 'Total COVID-19 tests').count().orderBy('Total Covid-19 tests',ascending=False).show(20,False)"
   ]
  },
  {
   "cell_type": "markdown",
   "metadata": {},
   "source": [
    "# Visualización gráfica de los datos"
   ]
  },
  {
   "cell_type": "code",
   "execution_count": 33,
   "metadata": {},
   "outputs": [
    {
     "data": {
      "application/vnd.jupyter.widget-view+json": {
       "model_id": "6529313ff1a54d94863909c13c3bbaf0",
       "version_major": 2,
       "version_minor": 0
      },
      "text/plain": [
       "VBox()"
      ]
     },
     "metadata": {},
     "output_type": "display_data"
    },
    {
     "data": {
      "application/vnd.jupyter.widget-view+json": {
       "model_id": "",
       "version_major": 2,
       "version_minor": 0
      },
      "text/plain": [
       "FloatProgress(value=0.0, bar_style='info', description='Progress:', layout=Layout(height='25px', width='50%'),…"
      ]
     },
     "metadata": {},
     "output_type": "display_data"
    },
    {
     "name": "stdout",
     "output_type": "stream",
     "text": [
      "Collecting pandas\n",
      "  Using cached pandas-1.0.3-cp36-cp36m-manylinux1_x86_64.whl (10.0 MB)\n",
      "Collecting python-dateutil>=2.6.1\n",
      "  Using cached python_dateutil-2.8.1-py2.py3-none-any.whl (227 kB)\n",
      "Requirement already satisfied: numpy>=1.13.3 in /usr/local/lib64/python3.6/site-packages (from pandas) (1.14.5)\n",
      "Requirement already satisfied: pytz>=2017.2 in /usr/local/lib/python3.6/site-packages (from pandas) (2019.2)\n",
      "Requirement already satisfied: six>=1.5 in /usr/local/lib/python3.6/site-packages (from python-dateutil>=2.6.1->pandas) (1.12.0)\n",
      "Installing collected packages: python-dateutil, pandas\n",
      "Successfully installed pandas-1.0.3 python-dateutil-2.8.1"
     ]
    }
   ],
   "source": [
    "sc.install_pypi_package(\"pandas\")"
   ]
  },
  {
   "cell_type": "code",
   "execution_count": 34,
   "metadata": {},
   "outputs": [
    {
     "data": {
      "application/vnd.jupyter.widget-view+json": {
       "model_id": "0f7cf2c11f3a474681cd4b291fc1736b",
       "version_major": 2,
       "version_minor": 0
      },
      "text/plain": [
       "VBox()"
      ]
     },
     "metadata": {},
     "output_type": "display_data"
    },
    {
     "data": {
      "application/vnd.jupyter.widget-view+json": {
       "model_id": "",
       "version_major": 2,
       "version_minor": 0
      },
      "text/plain": [
       "FloatProgress(value=0.0, bar_style='info', description='Progress:', layout=Layout(height='25px', width='50%'),…"
      ]
     },
     "metadata": {},
     "output_type": "display_data"
    },
    {
     "name": "stdout",
     "output_type": "stream",
     "text": [
      "Collecting matplotlib\n",
      "  Using cached matplotlib-3.2.1-cp36-cp36m-manylinux1_x86_64.whl (12.4 MB)\n",
      "Collecting pyparsing!=2.0.4,!=2.1.2,!=2.1.6,>=2.0.1\n",
      "  Using cached pyparsing-2.4.7-py2.py3-none-any.whl (67 kB)\n",
      "Requirement already satisfied: numpy>=1.11 in /usr/local/lib64/python3.6/site-packages (from matplotlib) (1.14.5)\n",
      "Requirement already satisfied: python-dateutil>=2.1 in /mnt/tmp/1589725367982-0/lib/python3.6/site-packages (from matplotlib) (2.8.1)\n",
      "Collecting kiwisolver>=1.0.1\n",
      "  Using cached kiwisolver-1.2.0-cp36-cp36m-manylinux1_x86_64.whl (88 kB)\n",
      "Collecting cycler>=0.10\n",
      "  Using cached cycler-0.10.0-py2.py3-none-any.whl (6.5 kB)\n",
      "Requirement already satisfied: six>=1.5 in /usr/local/lib/python3.6/site-packages (from python-dateutil>=2.1->matplotlib) (1.12.0)\n",
      "Installing collected packages: pyparsing, kiwisolver, cycler, matplotlib\n",
      "Successfully installed cycler-0.10.0 kiwisolver-1.2.0 matplotlib-3.2.1 pyparsing-2.4.7"
     ]
    }
   ],
   "source": [
    "sc.install_pypi_package(\"matplotlib\")"
   ]
  },
  {
   "cell_type": "code",
   "execution_count": 35,
   "metadata": {},
   "outputs": [
    {
     "data": {
      "application/vnd.jupyter.widget-view+json": {
       "model_id": "f0b1bedcb20c4efb85dcac0807a56e67",
       "version_major": 2,
       "version_minor": 0
      },
      "text/plain": [
       "VBox()"
      ]
     },
     "metadata": {},
     "output_type": "display_data"
    },
    {
     "data": {
      "application/vnd.jupyter.widget-view+json": {
       "model_id": "",
       "version_major": 2,
       "version_minor": 0
      },
      "text/plain": [
       "FloatProgress(value=0.0, bar_style='info', description='Progress:', layout=Layout(height='25px', width='50%'),…"
      ]
     },
     "metadata": {},
     "output_type": "display_data"
    }
   ],
   "source": [
    "import pandas as pd\n",
    "import matplotlib.pyplot as plt\n",
    "import matplotlib.pyplot as pltd"
   ]
  },
  {
   "cell_type": "code",
   "execution_count": 36,
   "metadata": {},
   "outputs": [
    {
     "data": {
      "application/vnd.jupyter.widget-view+json": {
       "model_id": "30c978794db945cea6bb0c7ec7644654",
       "version_major": 2,
       "version_minor": 0
      },
      "text/plain": [
       "VBox()"
      ]
     },
     "metadata": {},
     "output_type": "display_data"
    },
    {
     "data": {
      "application/vnd.jupyter.widget-view+json": {
       "model_id": "",
       "version_major": 2,
       "version_minor": 0
      },
      "text/plain": [
       "FloatProgress(value=0.0, bar_style='info', description='Progress:', layout=Layout(height='25px', width='50%'),…"
      ]
     },
     "metadata": {},
     "output_type": "display_data"
    }
   ],
   "source": [
    "col_dataframe = df_col.toPandas()"
   ]
  },
  {
   "cell_type": "code",
   "execution_count": 37,
   "metadata": {},
   "outputs": [
    {
     "data": {
      "application/vnd.jupyter.widget-view+json": {
       "model_id": "99ac474107084138aca786e92ff67c0a",
       "version_major": 2,
       "version_minor": 0
      },
      "text/plain": [
       "VBox()"
      ]
     },
     "metadata": {},
     "output_type": "display_data"
    },
    {
     "data": {
      "application/vnd.jupyter.widget-view+json": {
       "model_id": "",
       "version_major": 2,
       "version_minor": 0
      },
      "text/plain": [
       "FloatProgress(value=0.0, bar_style='info', description='Progress:', layout=Layout(height='25px', width='50%'),…"
      ]
     },
     "metadata": {},
     "output_type": "display_data"
    }
   ],
   "source": [
    "glo_dataframe = df_glo.toPandas()"
   ]
  },
  {
   "cell_type": "code",
   "execution_count": 38,
   "metadata": {},
   "outputs": [
    {
     "data": {
      "application/vnd.jupyter.widget-view+json": {
       "model_id": "766c8d89f4e34566abda6f8ecbaea8ba",
       "version_major": 2,
       "version_minor": 0
      },
      "text/plain": [
       "VBox()"
      ]
     },
     "metadata": {},
     "output_type": "display_data"
    },
    {
     "data": {
      "application/vnd.jupyter.widget-view+json": {
       "model_id": "",
       "version_major": 2,
       "version_minor": 0
      },
      "text/plain": [
       "FloatProgress(value=0.0, bar_style='info', description='Progress:', layout=Layout(height='25px', width='50%'),…"
      ]
     },
     "metadata": {},
     "output_type": "display_data"
    }
   ],
   "source": [
    "test_dataframe = df_test.toPandas()"
   ]
  },
  {
   "cell_type": "markdown",
   "metadata": {},
   "source": [
    "### Ciudades en Colombia con mayor cantidad de contagiados"
   ]
  },
  {
   "cell_type": "code",
   "execution_count": 39,
   "metadata": {},
   "outputs": [
    {
     "data": {
      "application/vnd.jupyter.widget-view+json": {
       "model_id": "cb9a382576e344d78f856feabeb356c1",
       "version_major": 2,
       "version_minor": 0
      },
      "text/plain": [
       "VBox()"
      ]
     },
     "metadata": {},
     "output_type": "display_data"
    },
    {
     "data": {
      "application/vnd.jupyter.widget-view+json": {
       "model_id": "",
       "version_major": 2,
       "version_minor": 0
      },
      "text/plain": [
       "FloatProgress(value=0.0, bar_style='info', description='Progress:', layout=Layout(height='25px', width='50%'),…"
      ]
     },
     "metadata": {},
     "output_type": "display_data"
    }
   ],
   "source": [
    "df_col_cities = df_col.groupBy('Ciudad de ubicación').count().orderBy('count',ascending=False).toPandas()"
   ]
  },
  {
   "cell_type": "code",
   "execution_count": 40,
   "metadata": {},
   "outputs": [
    {
     "data": {
      "application/vnd.jupyter.widget-view+json": {
       "model_id": "84a284615f974887b348f04d89871a34",
       "version_major": 2,
       "version_minor": 0
      },
      "text/plain": [
       "VBox()"
      ]
     },
     "metadata": {},
     "output_type": "display_data"
    },
    {
     "data": {
      "application/vnd.jupyter.widget-view+json": {
       "model_id": "",
       "version_major": 2,
       "version_minor": 0
      },
      "text/plain": [
       "FloatProgress(value=0.0, bar_style='info', description='Progress:', layout=Layout(height='25px', width='50%'),…"
      ]
     },
     "metadata": {},
     "output_type": "display_data"
    },
    {
     "name": "stdout",
     "output_type": "stream",
     "text": [
      "     Ciudad de ubicación  count\n",
      "0            Bogotá D.C.   5283\n",
      "1                   Cali   1343\n",
      "2    Cartagena de Indias   1197\n",
      "3                Leticia   1003\n",
      "4          Villavicencio    915\n",
      "5           Barranquilla    812\n",
      "6                Soledad    446\n",
      "7               Medellín    342\n",
      "8   San Andrés de Tumaco    281\n",
      "9            Santa Marta    245\n",
      "10               Pereira    165\n",
      "11                Ibagué    139\n",
      "12                 Neiva    122\n",
      "13                Soacha    118\n",
      "14               Malambo    109\n",
      "15               Ipiales    107\n",
      "16          Buenaventura     95\n",
      "17                Cúcuta     84\n",
      "18               Ciénaga     70\n",
      "19          Sabanagrande     69\n",
      "20                 Pasto     69\n",
      "21           Puebloviejo     67\n",
      "22          Dosquebradas     66\n",
      "23               Palmira     55\n",
      "24             La Dorada     55"
     ]
    }
   ],
   "source": [
    "df_col_cities_r = df_col_cities.iloc[0:25]\n",
    "df_col_cities_r"
   ]
  },
  {
   "cell_type": "code",
   "execution_count": 41,
   "metadata": {},
   "outputs": [
    {
     "data": {
      "application/vnd.jupyter.widget-view+json": {
       "model_id": "3815b14261a249428346a0cacc8e66ab",
       "version_major": 2,
       "version_minor": 0
      },
      "text/plain": [
       "VBox()"
      ]
     },
     "metadata": {},
     "output_type": "display_data"
    },
    {
     "data": {
      "application/vnd.jupyter.widget-view+json": {
       "model_id": "",
       "version_major": 2,
       "version_minor": 0
      },
      "text/plain": [
       "FloatProgress(value=0.0, bar_style='info', description='Progress:', layout=Layout(height='25px', width='50%'),…"
      ]
     },
     "metadata": {},
     "output_type": "display_data"
    },
    {
     "data": {
      "image/png": "[encoded data removed]",
      "text/plain": [
       "<IPython.core.display.Image object>"
      ]
     },
     "metadata": {},
     "output_type": "display_data"
    }
   ],
   "source": [
    "df_col_cities_r.plot(kind='bar', title='Casos por ciudad')\n",
    "%matplot plt"
   ]
  },
  {
   "cell_type": "markdown",
   "metadata": {},
   "source": [
    "### Paises con mayor cantidad de contagiados"
   ]
  },
  {
   "cell_type": "code",
   "execution_count": 42,
   "metadata": {},
   "outputs": [
    {
     "data": {
      "application/vnd.jupyter.widget-view+json": {
       "model_id": "36b21d0376fd4182b5b1aa7bf1c709aa",
       "version_major": 2,
       "version_minor": 0
      },
      "text/plain": [
       "VBox()"
      ]
     },
     "metadata": {},
     "output_type": "display_data"
    },
    {
     "data": {
      "application/vnd.jupyter.widget-view+json": {
       "model_id": "",
       "version_major": 2,
       "version_minor": 0
      },
      "text/plain": [
       "FloatProgress(value=0.0, bar_style='info', description='Progress:', layout=Layout(height='25px', width='50%'),…"
      ]
     },
     "metadata": {},
     "output_type": "display_data"
    },
    {
     "name": "stdout",
     "output_type": "stream",
     "text": [
      "                  Country Name  Cumulative Confirmed\n",
      "0     United States of America               1245775\n",
      "1                        Spain                223578\n",
      "2                        Italy                218268\n",
      "3           The United Kingdom                215264\n",
      "4           Russian Federation                209688\n",
      "5                      Germany                169218\n",
      "6                       Brazil                145328\n",
      "7                       Turkey                137115\n",
      "8                       France                137008\n",
      "9   Iran (Islamic Republic of)                107603\n",
      "10                       China                 84430\n",
      "11                      Canada                 66780\n",
      "12                       India                 62939\n",
      "13                        Peru                 61847\n",
      "14                     Belgium                 52596\n",
      "15                 Netherlands                 42382\n",
      "16                Saudi Arabia                 39048\n",
      "17                      Mexico                 31522\n",
      "18                 Switzerland                 30168\n",
      "19                    Pakistan                 29465\n",
      "20                     Ecuador                 28818\n",
      "21                    Portugal                 27406\n",
      "22                       Chile                 27219\n",
      "23                      Sweden                 25921\n",
      "24                     Belarus                 22973\n",
      "25                     Ireland                 22760\n",
      "26                       Qatar                 22520\n",
      "27                   Singapore                 22460\n",
      "28        United Arab Emirates                 18198\n",
      "29                      Israel                 16444\n",
      "30                     Austria                 15777\n",
      "31                       Japan                 15747\n",
      "32                      Poland                 15651\n",
      "33                     Ukraine                 15232\n",
      "34                     Romania                 15131\n",
      "35                  Bangladesh                 14657\n",
      "36                   Indonesia                 14032\n",
      "37           Republic of Korea                 10874\n",
      "38                 Philippines                 10610\n",
      "39                     Denmark                 10319\n",
      "40                    Colombia                 10051\n",
      "41                      Serbia                 10032\n",
      "42          Dominican Republic                  9882\n",
      "43                South Africa                  9420\n",
      "44                       Egypt                  9400\n",
      "45                      Kuwait                  8688\n",
      "46                     Czechia                  8095\n",
      "47                      Panama                  8070\n",
      "48                      Norway                  8069\n",
      "49                   Australia                  6929"
     ]
    }
   ],
   "source": [
    "df_glo_countries = df_glo.filter(df_glo['day'] == \"2020-05-10\").groupBy('Country Name', 'Cumulative Confirmed').count().orderBy('Cumulative Confirmed',ascending=False).toPandas()\n",
    "df_glo_countries_r = df_glo_countries.iloc[0:50, 0:2]\n",
    "df_glo_countries_r"
   ]
  },
  {
   "cell_type": "code",
   "execution_count": 43,
   "metadata": {},
   "outputs": [
    {
     "data": {
      "application/vnd.jupyter.widget-view+json": {
       "model_id": "9e3a07b3658549c99d2ea3d8d38ed0db",
       "version_major": 2,
       "version_minor": 0
      },
      "text/plain": [
       "VBox()"
      ]
     },
     "metadata": {},
     "output_type": "display_data"
    },
    {
     "data": {
      "application/vnd.jupyter.widget-view+json": {
       "model_id": "",
       "version_major": 2,
       "version_minor": 0
      },
      "text/plain": [
       "FloatProgress(value=0.0, bar_style='info', description='Progress:', layout=Layout(height='25px', width='50%'),…"
      ]
     },
     "metadata": {},
     "output_type": "display_data"
    },
    {
     "data": {
      "image/png": "[encoded data removed]",
      "text/plain": [
       "<IPython.core.display.Image object>"
      ]
     },
     "metadata": {},
     "output_type": "display_data"
    }
   ],
   "source": [
    "df_glo_countries_r.plot(kind='barh', title='Casos por país')\n",
    "%matplot plt"
   ]
  },
  {
   "cell_type": "markdown",
   "metadata": {},
   "source": [
    "## Distribución por sexo de infectados en Colombia"
   ]
  },
  {
   "cell_type": "code",
   "execution_count": 44,
   "metadata": {},
   "outputs": [
    {
     "data": {
      "application/vnd.jupyter.widget-view+json": {
       "model_id": "2990ee25cbf9410b9fc124209ce37c69",
       "version_major": 2,
       "version_minor": 0
      },
      "text/plain": [
       "VBox()"
      ]
     },
     "metadata": {},
     "output_type": "display_data"
    },
    {
     "data": {
      "application/vnd.jupyter.widget-view+json": {
       "model_id": "",
       "version_major": 2,
       "version_minor": 0
      },
      "text/plain": [
       "FloatProgress(value=0.0, bar_style='info', description='Progress:', layout=Layout(height='25px', width='50%'),…"
      ]
     },
     "metadata": {},
     "output_type": "display_data"
    },
    {
     "data": {
      "image/png": "[encoded data removed]",
      "text/plain": [
       "<IPython.core.display.Image object>"
      ]
     },
     "metadata": {},
     "output_type": "display_data"
    }
   ],
   "source": [
    "casos_M = df_col.filter(df_col['Sexo']=='M').count()\n",
    "casos_F = df_col.filter(df_col['Sexo']=='F').count()\n",
    "sizes = [casos_M, casos_F]\n",
    "labels = 'F', 'M'\n",
    "fig1, ax1 = plt.subplots()\n",
    "ax1.pie(sizes, explode=(0, 0.1), labels=labels, autopct='%1.1f%%', shadow=True, startangle=90)\n",
    "ax1.axis('equal')\n",
    "ax1.set_title('Distribución por género')\n",
    "%matplot plt"
   ]
  },
  {
   "cell_type": "markdown",
   "metadata": {},
   "source": [
    "## Evolucion de infectados en Colombia"
   ]
  },
  {
   "cell_type": "markdown",
   "metadata": {},
   "source": [
    "## Contagios"
   ]
  },
  {
   "cell_type": "code",
   "execution_count": 45,
   "metadata": {},
   "outputs": [
    {
     "data": {
      "application/vnd.jupyter.widget-view+json": {
       "model_id": "2d1efd33fc4b403c89d62437a06266e5",
       "version_major": 2,
       "version_minor": 0
      },
      "text/plain": [
       "VBox()"
      ]
     },
     "metadata": {},
     "output_type": "display_data"
    },
    {
     "data": {
      "application/vnd.jupyter.widget-view+json": {
       "model_id": "",
       "version_major": 2,
       "version_minor": 0
      },
      "text/plain": [
       "FloatProgress(value=0.0, bar_style='info', description='Progress:', layout=Layout(height='25px', width='50%'),…"
      ]
     },
     "metadata": {},
     "output_type": "display_data"
    },
    {
     "name": "stdout",
     "output_type": "stream",
     "text": [
      "          day Country Name  Cumulative Confirmed  count\n",
      "0  2020-03-08     Colombia                     1      1\n",
      "1  2020-03-09     Colombia                     1      1\n",
      "2  2020-03-06     Colombia                     1      1\n",
      "3  2020-03-07     Colombia                     1      1\n",
      "4  2020-03-10     Colombia                     3      1\n",
      "..        ...          ...                   ...    ...\n",
      "65 2020-05-10     Colombia                 10051      1\n",
      "66 2020-05-11     Colombia                 10495      1\n",
      "67 2020-05-12     Colombia                 11063      1\n",
      "68 2020-05-13     Colombia                 11613      1\n",
      "69 2020-05-14     Colombia                 12272      1\n",
      "\n",
      "[70 rows x 4 columns]"
     ]
    }
   ],
   "source": [
    "df_glo_col = df_glo.filter(df_glo['Country Name'] == \"Colombia\").groupBy('day', 'Country Name', 'Cumulative Confirmed').count().orderBy('Cumulative Confirmed',ascending=True).toPandas()\n",
    "df_glo_col = df_glo_col.iloc[0:70]\n",
    "df_glo_col"
   ]
  },
  {
   "cell_type": "code",
   "execution_count": 46,
   "metadata": {},
   "outputs": [
    {
     "data": {
      "application/vnd.jupyter.widget-view+json": {
       "model_id": "e6e9400e2205462e9f54f753f7ed9791",
       "version_major": 2,
       "version_minor": 0
      },
      "text/plain": [
       "VBox()"
      ]
     },
     "metadata": {},
     "output_type": "display_data"
    },
    {
     "data": {
      "application/vnd.jupyter.widget-view+json": {
       "model_id": "",
       "version_major": 2,
       "version_minor": 0
      },
      "text/plain": [
       "FloatProgress(value=0.0, bar_style='info', description='Progress:', layout=Layout(height='25px', width='50%'),…"
      ]
     },
     "metadata": {},
     "output_type": "display_data"
    },
    {
     "data": {
      "image/png": "[encoded data removed]",
      "text/plain": [
       "<IPython.core.display.Image object>"
      ]
     },
     "metadata": {},
     "output_type": "display_data"
    }
   ],
   "source": [
    "df_glo_col.plot(x='day', y='Cumulative Confirmed',legend=False, title=\"Evolución de casos colombia\")\n",
    "%matplot plt"
   ]
  },
  {
   "cell_type": "markdown",
   "metadata": {},
   "source": [
    "## Muertes"
   ]
  },
  {
   "cell_type": "code",
   "execution_count": 47,
   "metadata": {},
   "outputs": [
    {
     "data": {
      "application/vnd.jupyter.widget-view+json": {
       "model_id": "a5f06641dd8549afa9032a9b8b7e9303",
       "version_major": 2,
       "version_minor": 0
      },
      "text/plain": [
       "VBox()"
      ]
     },
     "metadata": {},
     "output_type": "display_data"
    },
    {
     "data": {
      "application/vnd.jupyter.widget-view+json": {
       "model_id": "",
       "version_major": 2,
       "version_minor": 0
      },
      "text/plain": [
       "FloatProgress(value=0.0, bar_style='info', description='Progress:', layout=Layout(height='25px', width='50%'),…"
      ]
     },
     "metadata": {},
     "output_type": "display_data"
    },
    {
     "name": "stdout",
     "output_type": "stream",
     "text": [
      "          day Country Name  Cumulative Deaths  count\n",
      "0  2020-03-13     Colombia                  0      1\n",
      "1  2020-03-10     Colombia                  0      1\n",
      "2  2020-03-19     Colombia                  0      1\n",
      "3  2020-03-16     Colombia                  0      1\n",
      "4  2020-03-14     Colombia                  0      1\n",
      "..        ...          ...                ...    ...\n",
      "65 2020-05-10     Colombia                428      1\n",
      "66 2020-05-11     Colombia                445      1\n",
      "67 2020-05-12     Colombia                463      1\n",
      "68 2020-05-13     Colombia                479      1\n",
      "69 2020-05-14     Colombia                493      1\n",
      "\n",
      "[70 rows x 4 columns]"
     ]
    }
   ],
   "source": [
    "df_glo_col_d = df_glo.filter(df_glo['Country Name'] == \"Colombia\").groupBy('day', 'Country Name', 'Cumulative Deaths').count().orderBy('Cumulative Deaths',ascending=True).toPandas()\n",
    "df_glo_col_d = df_glo_col_d.iloc[0:70]\n",
    "df_glo_col_d"
   ]
  },
  {
   "cell_type": "code",
   "execution_count": 48,
   "metadata": {},
   "outputs": [
    {
     "data": {
      "application/vnd.jupyter.widget-view+json": {
       "model_id": "1b01c61c4c484f8bb47f16c375a26ce1",
       "version_major": 2,
       "version_minor": 0
      },
      "text/plain": [
       "VBox()"
      ]
     },
     "metadata": {},
     "output_type": "display_data"
    },
    {
     "data": {
      "application/vnd.jupyter.widget-view+json": {
       "model_id": "",
       "version_major": 2,
       "version_minor": 0
      },
      "text/plain": [
       "FloatProgress(value=0.0, bar_style='info', description='Progress:', layout=Layout(height='25px', width='50%'),…"
      ]
     },
     "metadata": {},
     "output_type": "display_data"
    },
    {
     "data": {
      "image/png": "[encoded data removed]",
      "text/plain": [
       "<IPython.core.display.Image object>"
      ]
     },
     "metadata": {},
     "output_type": "display_data"
    }
   ],
   "source": [
    "df_glo_col_d.plot(x='day', y='Cumulative Deaths',legend=False, color=\"cyan\", title=\"Evolución de muertes colombia\")\n",
    "%matplot plt"
   ]
  },
  {
   "cell_type": "markdown",
   "metadata": {},
   "source": [
    "# Comparación Colombia vs Mundo"
   ]
  },
  {
   "cell_type": "markdown",
   "metadata": {},
   "source": [
    "## Contagios"
   ]
  },
  {
   "cell_type": "code",
   "execution_count": 49,
   "metadata": {},
   "outputs": [
    {
     "data": {
      "application/vnd.jupyter.widget-view+json": {
       "model_id": "0269a7ceb04d438e8dd91ff7a52272c2",
       "version_major": 2,
       "version_minor": 0
      },
      "text/plain": [
       "VBox()"
      ]
     },
     "metadata": {},
     "output_type": "display_data"
    },
    {
     "data": {
      "application/vnd.jupyter.widget-view+json": {
       "model_id": "",
       "version_major": 2,
       "version_minor": 0
      },
      "text/plain": [
       "FloatProgress(value=0.0, bar_style='info', description='Progress:', layout=Layout(height='25px', width='50%'),…"
      ]
     },
     "metadata": {},
     "output_type": "display_data"
    },
    {
     "name": "stdout",
     "output_type": "stream",
     "text": [
      "           Country Name  Cumulative Confirmed  count        day\n",
      "0              Colombia                     1      1 2020-03-06\n",
      "1              Colombia                     1      1 2020-03-07\n",
      "2              Colombia                     1      1 2020-03-08\n",
      "3              Colombia                     1      1 2020-03-09\n",
      "4              Colombia                     3      1 2020-03-10\n",
      "..                  ...                   ...    ...        ...\n",
      "624  The United Kingdom                223064      1 2020-05-12\n",
      "625  The United Kingdom                226467      1 2020-05-13\n",
      "626  The United Kingdom                229709      1 2020-05-14\n",
      "627  The United Kingdom                233155      1 2020-05-15\n",
      "628  The United Kingdom                236715      1 2020-05-16\n",
      "\n",
      "[629 rows x 4 columns]"
     ]
    }
   ],
   "source": [
    "df_glo_col = df_glo.filter(df_glo['Country Name'] == \"Colombia\").groupBy('day', 'Country Name', 'Cumulative Confirmed').count().orderBy('Cumulative Confirmed',ascending=True).toPandas()\n",
    "df_glo_col = df_glo_col.iloc[0:70]\n",
    "df_glo_eeuu = df_glo.filter(df_glo['Country Name'] == \"United States of America\").groupBy('day', 'Country Name', 'Cumulative Confirmed').count().orderBy('Cumulative Confirmed',ascending=True).toPandas()\n",
    "df_glo_eeuu = df_glo_eeuu.iloc[0:120]\n",
    "df_glo_spain = df_glo.filter(df_glo['Country Name'] == \"Spain\").groupBy('day', 'Country Name', 'Cumulative Confirmed').count().orderBy('Cumulative Confirmed',ascending=True).toPandas()\n",
    "df_glo_spain = df_glo_spain.iloc[0:120]\n",
    "df_glo_italy = df_glo.filter(df_glo['Country Name'] == \"Italy\").groupBy('day', 'Country Name', 'Cumulative Confirmed').count().orderBy('Cumulative Confirmed',ascending=True).toPandas()\n",
    "df_glo_italy = df_glo_italy.iloc[0:120]\n",
    "df_glo_uk = df_glo.filter(df_glo['Country Name'] == \"The United Kingdom\").groupBy('day', 'Country Name', 'Cumulative Confirmed').count().orderBy('Cumulative Confirmed',ascending=True).toPandas()\n",
    "df_glo_uk = df_glo_uk.iloc[0:120]\n",
    "dataframes = [df_glo_col, df_glo_eeuu, df_glo_eeuu, df_glo_spain, df_glo_italy, df_glo_uk]\n",
    "df = pd.concat(dataframes, sort='False', ignore_index='True')\n",
    "df"
   ]
  },
  {
   "cell_type": "code",
   "execution_count": 50,
   "metadata": {},
   "outputs": [
    {
     "data": {
      "application/vnd.jupyter.widget-view+json": {
       "model_id": "a30dc70107aa48188269dd3366c30ab8",
       "version_major": 2,
       "version_minor": 0
      },
      "text/plain": [
       "VBox()"
      ]
     },
     "metadata": {},
     "output_type": "display_data"
    },
    {
     "data": {
      "application/vnd.jupyter.widget-view+json": {
       "model_id": "",
       "version_major": 2,
       "version_minor": 0
      },
      "text/plain": [
       "FloatProgress(value=0.0, bar_style='info', description='Progress:', layout=Layout(height='25px', width='50%'),…"
      ]
     },
     "metadata": {},
     "output_type": "display_data"
    },
    {
     "data": {
      "image/png": "[encoded data removed]",
      "text/plain": [
       "<IPython.core.display.Image object>"
      ]
     },
     "metadata": {},
     "output_type": "display_data"
    }
   ],
   "source": [
    "#df_glo_col.plot(x='day', y='Cumulative Confirmed',legend=True, title=\"Evolución de casos colombia vs Mundo\")\n",
    "plt.figure()\n",
    "plt.clf()\n",
    "plt.plot( 'day', 'Cumulative Confirmed', data=df_glo_col, marker='', color='salmon', linewidth=4, label=\"Col\")\n",
    "plt.plot( 'day', 'Cumulative Confirmed', data=df_glo_eeuu, marker='', color='green', linewidth=2, label=\"EEUU\")\n",
    "plt.plot( 'day', 'Cumulative Confirmed', data=df_glo_spain, marker='', color='olive', linewidth=2, label=\"Spain\")\n",
    "plt.plot( 'day', 'Cumulative Confirmed', data=df_glo_italy, marker='', color='blue', linewidth=2, label=\"Italy\")\n",
    "plt.plot( 'day', 'Cumulative Confirmed', data=df_glo_uk, marker='', color='yellow', linewidth=2, label=\"UK\")\n",
    "plt.legend()\n",
    "%matplot plt"
   ]
  },
  {
   "cell_type": "markdown",
   "metadata": {},
   "source": [
    "### Notar que las dimensiones de los contagios dado la gran expansión del coronavirus en EEUU se escala a millones "
   ]
  },
  {
   "cell_type": "markdown",
   "metadata": {},
   "source": [
    "Además vemos que en comparación con los demás paises Colombia mantiene una tasa de contagios menor"
   ]
  },
  {
   "cell_type": "markdown",
   "metadata": {},
   "source": [
    "## Muertes"
   ]
  },
  {
   "cell_type": "code",
   "execution_count": 51,
   "metadata": {},
   "outputs": [
    {
     "data": {
      "application/vnd.jupyter.widget-view+json": {
       "model_id": "3fb321553d8641c7a0ecd56cecc63afc",
       "version_major": 2,
       "version_minor": 0
      },
      "text/plain": [
       "VBox()"
      ]
     },
     "metadata": {},
     "output_type": "display_data"
    },
    {
     "data": {
      "application/vnd.jupyter.widget-view+json": {
       "model_id": "",
       "version_major": 2,
       "version_minor": 0
      },
      "text/plain": [
       "FloatProgress(value=0.0, bar_style='info', description='Progress:', layout=Layout(height='25px', width='50%'),…"
      ]
     },
     "metadata": {},
     "output_type": "display_data"
    },
    {
     "name": "stdout",
     "output_type": "stream",
     "text": [
      "           Country Name  Cumulative Deaths  count        day\n",
      "0              Colombia                  0      1 2020-03-08\n",
      "1              Colombia                  0      1 2020-03-13\n",
      "2              Colombia                  0      1 2020-03-22\n",
      "3              Colombia                  0      1 2020-03-19\n",
      "4              Colombia                  0      1 2020-03-12\n",
      "..                  ...                ...    ...        ...\n",
      "624  The United Kingdom              32065      1 2020-05-12\n",
      "625  The United Kingdom              32692      1 2020-05-13\n",
      "626  The United Kingdom              33186      1 2020-05-14\n",
      "627  The United Kingdom              33614      1 2020-05-15\n",
      "628  The United Kingdom              33998      1 2020-05-16\n",
      "\n",
      "[629 rows x 4 columns]"
     ]
    }
   ],
   "source": [
    "df_glo_cold = df_glo.filter(df_glo['Country Name'] == \"Colombia\").groupBy('day', 'Country Name', 'Cumulative Deaths').count().orderBy('Cumulative Deaths',ascending=True).toPandas()\n",
    "df_glo_cold = df_glo_cold.iloc[0:70]\n",
    "df_glo_eeuud = df_glo.filter(df_glo['Country Name'] == \"United States of America\").groupBy('day', 'Country Name', 'Cumulative Deaths').count().orderBy('Cumulative Deaths',ascending=True).toPandas()\n",
    "df_glo_eeuud = df_glo_eeuud.iloc[0:120]\n",
    "df_glo_spaind = df_glo.filter(df_glo['Country Name'] == \"Spain\").groupBy('day', 'Country Name', 'Cumulative Deaths').count().orderBy('Cumulative Deaths',ascending=True).toPandas()\n",
    "df_glo_spaind = df_glo_spaind.iloc[0:120]\n",
    "df_glo_italyd = df_glo.filter(df_glo['Country Name'] == \"Italy\").groupBy('day', 'Country Name', 'Cumulative Deaths').count().orderBy('Cumulative Deaths',ascending=True).toPandas()\n",
    "df_glo_italyd = df_glo_italyd.iloc[0:120]\n",
    "df_glo_ukd = df_glo.filter(df_glo['Country Name'] == \"The United Kingdom\").groupBy('day', 'Country Name', 'Cumulative Deaths').count().orderBy('Cumulative Deaths',ascending=True).toPandas()\n",
    "df_glo_ukd = df_glo_ukd.iloc[0:120]\n",
    "dataframes = [df_glo_cold, df_glo_eeuud, df_glo_eeuud, df_glo_spaind, df_glo_italyd, df_glo_ukd]\n",
    "df = pd.concat(dataframes, sort='False', ignore_index='True')\n",
    "df"
   ]
  },
  {
   "cell_type": "code",
   "execution_count": 52,
   "metadata": {},
   "outputs": [
    {
     "data": {
      "application/vnd.jupyter.widget-view+json": {
       "model_id": "8dbafeca3f9a49e5a4c2d85c9d2d1765",
       "version_major": 2,
       "version_minor": 0
      },
      "text/plain": [
       "VBox()"
      ]
     },
     "metadata": {},
     "output_type": "display_data"
    },
    {
     "data": {
      "application/vnd.jupyter.widget-view+json": {
       "model_id": "",
       "version_major": 2,
       "version_minor": 0
      },
      "text/plain": [
       "FloatProgress(value=0.0, bar_style='info', description='Progress:', layout=Layout(height='25px', width='50%'),…"
      ]
     },
     "metadata": {},
     "output_type": "display_data"
    },
    {
     "data": {
      "image/png": "[encoded data removed]",
      "text/plain": [
       "<IPython.core.display.Image object>"
      ]
     },
     "metadata": {},
     "output_type": "display_data"
    }
   ],
   "source": [
    "plt.figure()\n",
    "plt.clf()\n",
    "plt.plot( 'day', 'Cumulative Deaths', data=df_glo_cold, marker='', color='salmon', linewidth=4, label=\"Col\")\n",
    "plt.plot( 'day', 'Cumulative Deaths', data=df_glo_eeuud, marker='', color='green', linewidth=2, label=\"EEUU\")\n",
    "plt.plot( 'day', 'Cumulative Deaths', data=df_glo_spaind, marker='', color='olive', linewidth=2, label=\"Spain\")\n",
    "plt.plot( 'day', 'Cumulative Deaths', data=df_glo_italyd, marker='', color='blue', linewidth=2, label=\"Italy\")\n",
    "plt.plot( 'day', 'Cumulative Deaths', data=df_glo_ukd, marker='', color='yellow', linewidth=2, label=\"UK\")\n",
    "plt.legend()\n",
    "%matplot plt"
   ]
  },
  {
   "cell_type": "markdown",
   "metadata": {},
   "source": [
    "### Días con mayor número de contagios"
   ]
  },
  {
   "cell_type": "code",
   "execution_count": 53,
   "metadata": {},
   "outputs": [
    {
     "data": {
      "application/vnd.jupyter.widget-view+json": {
       "model_id": "492609e255f84950a6fd8e4a1c85b8ff",
       "version_major": 2,
       "version_minor": 0
      },
      "text/plain": [
       "VBox()"
      ]
     },
     "metadata": {},
     "output_type": "display_data"
    },
    {
     "data": {
      "application/vnd.jupyter.widget-view+json": {
       "model_id": "",
       "version_major": 2,
       "version_minor": 0
      },
      "text/plain": [
       "FloatProgress(value=0.0, bar_style='info', description='Progress:', layout=Layout(height='25px', width='50%'),…"
      ]
     },
     "metadata": {},
     "output_type": "display_data"
    },
    {
     "name": "stdout",
     "output_type": "stream",
     "text": [
      "          day Country Name  Confirmed  count\n",
      "0  2020-03-08     Colombia          0      1\n",
      "1  2020-03-22     Colombia          0      1\n",
      "2  2020-03-11     Colombia          0      1\n",
      "3  2020-03-27     Colombia          0      1\n",
      "4  2020-03-25     Colombia          0      1\n",
      "..        ...          ...        ...    ...\n",
      "65 2020-05-13     Colombia        550      1\n",
      "66 2020-05-12     Colombia        568      1\n",
      "67 2020-05-10     Colombia        595      1\n",
      "68 2020-05-07     Colombia        640      1\n",
      "69 2020-05-15     Colombia        658      1\n",
      "\n",
      "[70 rows x 4 columns]"
     ]
    }
   ],
   "source": [
    "df_glo_col_c = df_glo.filter(df_glo['Country Name'] == \"Colombia\").groupBy('day', 'Country Name', 'Confirmed').count().orderBy('Confirmed',ascending=True).toPandas()\n",
    "df_glo_col_c = df_glo_col_c.iloc[0:70]\n",
    "df_glo_col_c"
   ]
  },
  {
   "cell_type": "code",
   "execution_count": 54,
   "metadata": {},
   "outputs": [
    {
     "data": {
      "application/vnd.jupyter.widget-view+json": {
       "model_id": "b31974c3c9274d3db3f94e75f36d5556",
       "version_major": 2,
       "version_minor": 0
      },
      "text/plain": [
       "VBox()"
      ]
     },
     "metadata": {},
     "output_type": "display_data"
    },
    {
     "data": {
      "application/vnd.jupyter.widget-view+json": {
       "model_id": "",
       "version_major": 2,
       "version_minor": 0
      },
      "text/plain": [
       "FloatProgress(value=0.0, bar_style='info', description='Progress:', layout=Layout(height='25px', width='50%'),…"
      ]
     },
     "metadata": {},
     "output_type": "display_data"
    },
    {
     "data": {
      "image/png": "[encoded data removed]",
      "text/plain": [
       "<IPython.core.display.Image object>"
      ]
     },
     "metadata": {},
     "output_type": "display_data"
    }
   ],
   "source": [
    "df_glo_col_c.plot(x='day', y='Confirmed',kind=\"bar\", legend=False, color=\"limegreen\", title=\"Contagios por día en colombia\")\n",
    "%matplot plt"
   ]
  },
  {
   "cell_type": "markdown",
   "metadata": {},
   "source": [
    "Como se puede ver en la gráfica en Colombia aún no se alcanza un pico de contagios y en los últimos días la tasa de contagios sigue en aumento"
   ]
  },
  {
   "cell_type": "code",
   "execution_count": 55,
   "metadata": {},
   "outputs": [
    {
     "data": {
      "application/vnd.jupyter.widget-view+json": {
       "model_id": "464e1a0002b74fdeae0a0ccece959c83",
       "version_major": 2,
       "version_minor": 0
      },
      "text/plain": [
       "VBox()"
      ]
     },
     "metadata": {},
     "output_type": "display_data"
    },
    {
     "data": {
      "application/vnd.jupyter.widget-view+json": {
       "model_id": "",
       "version_major": 2,
       "version_minor": 0
      },
      "text/plain": [
       "FloatProgress(value=0.0, bar_style='info', description='Progress:', layout=Layout(height='25px', width='50%'),…"
      ]
     },
     "metadata": {},
     "output_type": "display_data"
    },
    {
     "name": "stdout",
     "output_type": "stream",
     "text": [
      "           day Country Name  Confirmed  count\n",
      "10  2020-02-02       France          0      1\n",
      "11  2020-02-20       France          0      1\n",
      "12  2020-02-07       France          0      1\n",
      "13  2020-01-31       France          0      1\n",
      "14  2020-01-25       France          0      1\n",
      "..         ...          ...        ...    ...\n",
      "109 2020-03-29       France       4603      1\n",
      "110 2020-04-02       France       4784      1\n",
      "111 2020-04-04       France       5209      1\n",
      "112 2020-04-15       France       5483      1\n",
      "113 2020-04-01       France       7500      1\n",
      "\n",
      "[104 rows x 4 columns]"
     ]
    }
   ],
   "source": [
    "df_glo_fra_c = df_glo.filter(df_glo['Country Name'] == \"France\").groupBy('day', 'Country Name', 'Confirmed').count().orderBy('Confirmed',ascending=True).toPandas()\n",
    "df_glo_fra_c = df_glo_fra_c.iloc[10:250]\n",
    "df_glo_fra_c"
   ]
  },
  {
   "cell_type": "code",
   "execution_count": 56,
   "metadata": {},
   "outputs": [
    {
     "data": {
      "application/vnd.jupyter.widget-view+json": {
       "model_id": "e84669900ddc40cfa33a009bce4ef47c",
       "version_major": 2,
       "version_minor": 0
      },
      "text/plain": [
       "VBox()"
      ]
     },
     "metadata": {},
     "output_type": "display_data"
    },
    {
     "data": {
      "application/vnd.jupyter.widget-view+json": {
       "model_id": "",
       "version_major": 2,
       "version_minor": 0
      },
      "text/plain": [
       "FloatProgress(value=0.0, bar_style='info', description='Progress:', layout=Layout(height='25px', width='50%'),…"
      ]
     },
     "metadata": {},
     "output_type": "display_data"
    },
    {
     "data": {
      "image/png": "[encoded data removed]",
      "text/plain": [
       "<IPython.core.display.Image object>"
      ]
     },
     "metadata": {},
     "output_type": "display_data"
    }
   ],
   "source": [
    "df_glo_fra_c.plot(x='day', y='Confirmed',kind=\"bar\", legend=False, color=\"tomato\", title=\"Contagíos por día en Francia\")\n",
    "%matplot plt"
   ]
  },
  {
   "cell_type": "markdown",
   "metadata": {},
   "source": [
    "No obstante en comparación con Francia un país con número de población similar (60 millones vs 50 millones) la tasa de contagios por día ha sido significativamente más alta"
   ]
  },
  {
   "cell_type": "markdown",
   "metadata": {},
   "source": [
    "# Test"
   ]
  },
  {
   "cell_type": "code",
   "execution_count": 57,
   "metadata": {},
   "outputs": [
    {
     "data": {
      "application/vnd.jupyter.widget-view+json": {
       "model_id": "2190c2a5a8d34874be5451ef2cc6f44a",
       "version_major": 2,
       "version_minor": 0
      },
      "text/plain": [
       "VBox()"
      ]
     },
     "metadata": {},
     "output_type": "display_data"
    },
    {
     "data": {
      "application/vnd.jupyter.widget-view+json": {
       "model_id": "",
       "version_major": 2,
       "version_minor": 0
      },
      "text/plain": [
       "FloatProgress(value=0.0, bar_style='info', description='Progress:', layout=Layout(height='25px', width='50%'),…"
      ]
     },
     "metadata": {},
     "output_type": "display_data"
    },
    {
     "name": "stdout",
     "output_type": "stream",
     "text": [
      "                                Entity  Total COVID-19 tests  count\n",
      "0                    China - Guangdong                320000      1\n",
      "1                          South Korea                316664      1\n",
      "2                                Italy                206886      1\n",
      "3                              Germany                167000      1\n",
      "4                               Russia                143519      1\n",
      "5                 United Arab Emirates                125000      1\n",
      "6                            Australia                113615      1\n",
      "7                        United States                103945      1\n",
      "8                                 Iran                 80000      1\n",
      "9                       United Kingdom                 64621      1\n",
      "10               Canada - National lab                 54956      1\n",
      "11                              Norway                 43735      1\n",
      "12         Australia - New South Wales                 39089      1\n",
      "13  United States - CDC samples tested                 37646      1\n",
      "14                              France                 36747      1\n",
      "15                               Spain                 30000      1\n",
      "16              Australia - Queensland                 27000      1\n",
      "17                              Taiwan                 21376      1\n",
      "18                    Canada - Ontario                 19511      1\n",
      "19                Australia - Victoria                 19337      1\n",
      "20                             Bahrain                 18645      1\n",
      "21                             Belgium                 18360      1\n",
      "22                    Canada - Alberta                 17013      1\n",
      "23         Australia - South Australia                 16717      1\n",
      "24                             Belarus                 16000      1"
     ]
    }
   ],
   "source": [
    "df_test_p = df_test.groupBy('Entity', 'Total COVID-19 tests').count().orderBy('Total Covid-19 tests',ascending=False).toPandas()\n",
    "df_test_p = df_test_p.iloc[0:25]\n",
    "df_test_p"
   ]
  },
  {
   "cell_type": "code",
   "execution_count": 58,
   "metadata": {},
   "outputs": [
    {
     "data": {
      "application/vnd.jupyter.widget-view+json": {
       "model_id": "ec34554b88e740f5a4065b3c5ccc130d",
       "version_major": 2,
       "version_minor": 0
      },
      "text/plain": [
       "VBox()"
      ]
     },
     "metadata": {},
     "output_type": "display_data"
    },
    {
     "data": {
      "application/vnd.jupyter.widget-view+json": {
       "model_id": "",
       "version_major": 2,
       "version_minor": 0
      },
      "text/plain": [
       "FloatProgress(value=0.0, bar_style='info', description='Progress:', layout=Layout(height='25px', width='50%'),…"
      ]
     },
     "metadata": {},
     "output_type": "display_data"
    },
    {
     "data": {
      "image/png": "[encoded data removed]",
      "text/plain": [
       "<IPython.core.display.Image object>"
      ]
     },
     "metadata": {},
     "output_type": "display_data"
    }
   ],
   "source": [
    "df_test_p.plot(x='Entity', y='Total COVID-19 tests',kind=\"barh\", legend=False, color=\"magenta\", title=\"# Pruebas realizadas\")\n",
    "%matplot plt"
   ]
  },
  {
   "cell_type": "code",
   "execution_count": null,
   "metadata": {},
   "outputs": [],
   "source": []
  }
 ],
 "metadata": {
  "kernelspec": {
   "display_name": "PySpark",
   "language": "",
   "name": "pysparkkernel"
  },
  "language_info": {
   "codemirror_mode": {
    "name": "python",
    "version": 2
   },
   "mimetype": "text/x-python",
   "name": "pyspark",
   "pygments_lexer": "python2"
  }
 },
 "nbformat": 4,
 "nbformat_minor": 4
}
